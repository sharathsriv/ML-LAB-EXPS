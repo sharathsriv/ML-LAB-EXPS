{
 "cells": [
  {
   "cell_type": "markdown",
   "metadata": {
    "id": "Lq5p9swvZ04G"
   },
   "source": [
    "# Deep Learning with CICIDS Dataset "
   ]
  },
  {
   "cell_type": "code",
   "execution_count": 2,
   "metadata": {},
   "outputs": [
    {
     "name": "stdout",
     "output_type": "stream",
     "text": [
      "Collecting tensorflow\n",
      "  Downloading tensorflow-2.10.0-cp39-cp39-win_amd64.whl (455.9 MB)\n",
      "     -------------------------------------- 455.9/455.9 MB 7.7 MB/s eta 0:00:00\n",
      "Collecting protobuf<3.20,>=3.9.2\n",
      "  Downloading protobuf-3.19.6-cp39-cp39-win_amd64.whl (895 kB)\n",
      "     ------------------------------------- 895.9/895.9 kB 11.4 MB/s eta 0:00:00\n",
      "Requirement already satisfied: wrapt>=1.11.0 in c:\\users\\shara\\anaconda3\\lib\\site-packages (from tensorflow) (1.14.1)\n",
      "Collecting tensorflow-io-gcs-filesystem>=0.23.1\n",
      "  Downloading tensorflow_io_gcs_filesystem-0.27.0-cp39-cp39-win_amd64.whl (1.5 MB)\n",
      "     ---------------------------------------- 1.5/1.5 MB 13.5 MB/s eta 0:00:00\n",
      "Collecting flatbuffers>=2.0\n",
      "  Downloading flatbuffers-22.10.26-py2.py3-none-any.whl (26 kB)\n",
      "Collecting astunparse>=1.6.0\n",
      "  Downloading astunparse-1.6.3-py2.py3-none-any.whl (12 kB)\n",
      "Collecting tensorboard<2.11,>=2.10\n",
      "  Downloading tensorboard-2.10.1-py3-none-any.whl (5.9 MB)\n",
      "     ---------------------------------------- 5.9/5.9 MB 14.4 MB/s eta 0:00:00\n",
      "Requirement already satisfied: packaging in c:\\users\\shara\\anaconda3\\lib\\site-packages (from tensorflow) (21.3)\n",
      "Collecting keras-preprocessing>=1.1.1\n",
      "  Downloading Keras_Preprocessing-1.1.2-py2.py3-none-any.whl (42 kB)\n",
      "     ---------------------------------------- 42.6/42.6 kB ? eta 0:00:00\n",
      "Requirement already satisfied: numpy>=1.20 in c:\\users\\shara\\anaconda3\\lib\\site-packages (from tensorflow) (1.21.5)\n",
      "Requirement already satisfied: typing-extensions>=3.6.6 in c:\\users\\shara\\anaconda3\\lib\\site-packages (from tensorflow) (4.3.0)\n",
      "Collecting gast<=0.4.0,>=0.2.1\n",
      "  Downloading gast-0.4.0-py3-none-any.whl (9.8 kB)\n",
      "Collecting absl-py>=1.0.0\n",
      "  Downloading absl_py-1.3.0-py3-none-any.whl (124 kB)\n",
      "     -------------------------------------- 124.6/124.6 kB 7.6 MB/s eta 0:00:00\n",
      "Collecting google-pasta>=0.1.1\n",
      "  Downloading google_pasta-0.2.0-py3-none-any.whl (57 kB)\n",
      "     ---------------------------------------- 57.5/57.5 kB ? eta 0:00:00\n",
      "Collecting opt-einsum>=2.3.2\n",
      "  Downloading opt_einsum-3.3.0-py3-none-any.whl (65 kB)\n",
      "     ---------------------------------------- 65.5/65.5 kB ? eta 0:00:00\n",
      "Collecting libclang>=13.0.0\n",
      "  Downloading libclang-14.0.6-py2.py3-none-win_amd64.whl (14.2 MB)\n",
      "     --------------------------------------- 14.2/14.2 MB 17.7 MB/s eta 0:00:00\n",
      "Requirement already satisfied: h5py>=2.9.0 in c:\\users\\shara\\anaconda3\\lib\\site-packages (from tensorflow) (3.7.0)\n",
      "Collecting keras<2.11,>=2.10.0\n",
      "  Downloading keras-2.10.0-py2.py3-none-any.whl (1.7 MB)\n",
      "     ---------------------------------------- 1.7/1.7 MB 13.4 MB/s eta 0:00:00\n",
      "Collecting tensorflow-estimator<2.11,>=2.10.0\n",
      "  Downloading tensorflow_estimator-2.10.0-py2.py3-none-any.whl (438 kB)\n",
      "     ------------------------------------- 438.7/438.7 kB 13.8 MB/s eta 0:00:00\n",
      "Requirement already satisfied: six>=1.12.0 in c:\\users\\shara\\anaconda3\\lib\\site-packages (from tensorflow) (1.16.0)\n",
      "Collecting termcolor>=1.1.0\n",
      "  Downloading termcolor-2.1.0-py3-none-any.whl (5.8 kB)\n",
      "Collecting grpcio<2.0,>=1.24.3\n",
      "  Downloading grpcio-1.50.0-cp39-cp39-win_amd64.whl (3.7 MB)\n",
      "     ---------------------------------------- 3.7/3.7 MB 18.0 MB/s eta 0:00:00\n",
      "Requirement already satisfied: setuptools in c:\\users\\shara\\anaconda3\\lib\\site-packages (from tensorflow) (63.4.1)\n",
      "Requirement already satisfied: wheel<1.0,>=0.23.0 in c:\\users\\shara\\anaconda3\\lib\\site-packages (from astunparse>=1.6.0->tensorflow) (0.37.1)\n",
      "Requirement already satisfied: markdown>=2.6.8 in c:\\users\\shara\\anaconda3\\lib\\site-packages (from tensorboard<2.11,>=2.10->tensorflow) (3.3.4)\n",
      "Collecting google-auth-oauthlib<0.5,>=0.4.1\n",
      "  Downloading google_auth_oauthlib-0.4.6-py2.py3-none-any.whl (18 kB)\n",
      "Collecting tensorboard-plugin-wit>=1.6.0\n",
      "  Downloading tensorboard_plugin_wit-1.8.1-py3-none-any.whl (781 kB)\n",
      "     ------------------------------------- 781.3/781.3 kB 16.4 MB/s eta 0:00:00\n",
      "Requirement already satisfied: requests<3,>=2.21.0 in c:\\users\\shara\\anaconda3\\lib\\site-packages (from tensorboard<2.11,>=2.10->tensorflow) (2.28.1)\n",
      "Collecting google-auth<3,>=1.6.3\n",
      "  Downloading google_auth-2.14.1-py2.py3-none-any.whl (175 kB)\n",
      "     ------------------------------------- 175.4/175.4 kB 10.3 MB/s eta 0:00:00\n",
      "Requirement already satisfied: werkzeug>=1.0.1 in c:\\users\\shara\\anaconda3\\lib\\site-packages (from tensorboard<2.11,>=2.10->tensorflow) (2.0.3)\n",
      "Collecting tensorboard-data-server<0.7.0,>=0.6.0\n",
      "  Downloading tensorboard_data_server-0.6.1-py3-none-any.whl (2.4 kB)\n",
      "Requirement already satisfied: pyparsing!=3.0.5,>=2.0.2 in c:\\users\\shara\\anaconda3\\lib\\site-packages (from packaging->tensorflow) (3.0.9)\n",
      "Collecting cachetools<6.0,>=2.0.0\n",
      "  Downloading cachetools-5.2.0-py3-none-any.whl (9.3 kB)\n",
      "Collecting rsa<5,>=3.1.4\n",
      "  Downloading rsa-4.9-py3-none-any.whl (34 kB)\n",
      "Requirement already satisfied: pyasn1-modules>=0.2.1 in c:\\users\\shara\\anaconda3\\lib\\site-packages (from google-auth<3,>=1.6.3->tensorboard<2.11,>=2.10->tensorflow) (0.2.8)\n",
      "Collecting requests-oauthlib>=0.7.0\n",
      "  Downloading requests_oauthlib-1.3.1-py2.py3-none-any.whl (23 kB)\n",
      "Requirement already satisfied: certifi>=2017.4.17 in c:\\users\\shara\\anaconda3\\lib\\site-packages (from requests<3,>=2.21.0->tensorboard<2.11,>=2.10->tensorflow) (2022.9.14)\n",
      "Requirement already satisfied: urllib3<1.27,>=1.21.1 in c:\\users\\shara\\anaconda3\\lib\\site-packages (from requests<3,>=2.21.0->tensorboard<2.11,>=2.10->tensorflow) (1.26.11)\n",
      "Requirement already satisfied: idna<4,>=2.5 in c:\\users\\shara\\anaconda3\\lib\\site-packages (from requests<3,>=2.21.0->tensorboard<2.11,>=2.10->tensorflow) (3.3)\n",
      "Requirement already satisfied: charset-normalizer<3,>=2 in c:\\users\\shara\\anaconda3\\lib\\site-packages (from requests<3,>=2.21.0->tensorboard<2.11,>=2.10->tensorflow) (2.0.4)\n",
      "Requirement already satisfied: pyasn1<0.5.0,>=0.4.6 in c:\\users\\shara\\anaconda3\\lib\\site-packages (from pyasn1-modules>=0.2.1->google-auth<3,>=1.6.3->tensorboard<2.11,>=2.10->tensorflow) (0.4.8)\n",
      "Collecting oauthlib>=3.0.0\n",
      "  Downloading oauthlib-3.2.2-py3-none-any.whl (151 kB)\n",
      "     ---------------------------------------- 151.7/151.7 kB ? eta 0:00:00\n",
      "Installing collected packages: tensorboard-plugin-wit, libclang, keras, flatbuffers, termcolor, tensorflow-io-gcs-filesystem, tensorflow-estimator, tensorboard-data-server, rsa, protobuf, opt-einsum, oauthlib, keras-preprocessing, grpcio, google-pasta, gast, cachetools, astunparse, absl-py, requests-oauthlib, google-auth, google-auth-oauthlib, tensorboard, tensorflow\n",
      "Successfully installed absl-py-1.3.0 astunparse-1.6.3 cachetools-5.2.0 flatbuffers-22.10.26 gast-0.4.0 google-auth-2.14.1 google-auth-oauthlib-0.4.6 google-pasta-0.2.0 grpcio-1.50.0 keras-2.10.0 keras-preprocessing-1.1.2 libclang-14.0.6 oauthlib-3.2.2 opt-einsum-3.3.0 protobuf-3.19.6 requests-oauthlib-1.3.1 rsa-4.9 tensorboard-2.10.1 tensorboard-data-server-0.6.1 tensorboard-plugin-wit-1.8.1 tensorflow-2.10.0 tensorflow-estimator-2.10.0 tensorflow-io-gcs-filesystem-0.27.0 termcolor-2.1.0\n"
     ]
    }
   ],
   "source": [
    "!pip install tensorflow"
   ]
  },
  {
   "cell_type": "code",
   "execution_count": 3,
   "metadata": {
    "id": "0SOKT1sRZ04I"
   },
   "outputs": [],
   "source": [
    "import os\n",
    "from os.path import join\n",
    "import glob\n",
    "import pandas as pd\n",
    "import numpy as np\n",
    "import time\n",
    "import seaborn as sns\n",
    "import matplotlib.pyplot as plt\n",
    "import tensorflow.keras as keras"
   ]
  },
  {
   "cell_type": "code",
   "execution_count": 4,
   "metadata": {
    "colab": {
     "base_uri": "https://localhost:8080/",
     "height": 35
    },
    "id": "dlL9KILmSag_",
    "outputId": "80063dc3-447c-495d-92fc-74b96f2e66c4"
   },
   "outputs": [
    {
     "data": {
      "text/plain": [
       "'2.10.0'"
      ]
     },
     "execution_count": 4,
     "metadata": {},
     "output_type": "execute_result"
    }
   ],
   "source": [
    "keras.__version__"
   ]
  },
  {
   "cell_type": "code",
   "execution_count": 5,
   "metadata": {
    "colab": {
     "base_uri": "https://localhost:8080/"
    },
    "id": "ew3jLaFPR4oB",
    "outputId": "2fc9472f-99f5-4c8b-b769-4a6a4c44568d"
   },
   "outputs": [
    {
     "name": "stderr",
     "output_type": "stream",
     "text": [
      "UsageError: Line magic function `%tensorflow_version` not found.\n"
     ]
    }
   ],
   "source": [
    "%tensorflow_version"
   ]
  },
  {
   "cell_type": "code",
   "execution_count": 6,
   "metadata": {
    "id": "RH9hOnpmzv6-"
   },
   "outputs": [],
   "source": [
    "def display_metrics(y_test, y_pred, label_names):\n",
    "  print('\\nAccuracy: {:.2f}\\n'.format(accuracy_score(y_test, y_pred)))\n",
    "\n",
    "  print('Micro Precision: {:.2f}'.format(precision_score(y_test, y_pred, average='micro')))\n",
    "  print('Micro Recall: {:.2f}'.format(recall_score(y_test, y_pred, average='micro')))\n",
    "  print('Micro F1-score: {:.2f}\\n'.format(f1_score(y_test, y_pred, average='micro')))\n",
    "\n",
    "  print('Macro Precision: {:.2f}'.format(precision_score(y_test, y_pred, average='macro')))\n",
    "  print('Macro Recall: {:.2f}'.format(recall_score(y_test, y_pred, average='macro')))\n",
    "  print('Macro F1-score: {:.2f}\\n'.format(f1_score(y_test, y_pred, average='macro')))\n",
    "\n",
    "  print('Weighted Precision: {:.2f}'.format(precision_score(y_test, y_pred, average='weighted')))\n",
    "  print('Weighted Recall: {:.2f}'.format(recall_score(y_test, y_pred, average='weighted')))\n",
    "  print('Weighted F1-score: {:.2f}'.format(f1_score(y_test, y_pred, average='weighted')))\n",
    "\n",
    "  print('\\nClassification Report\\n')\n",
    "  print(classification_report(y_test, y_pred, target_names=label_names))"
   ]
  },
  {
   "cell_type": "code",
   "execution_count": 7,
   "metadata": {
    "id": "xCwZZFMTZ04J"
   },
   "outputs": [],
   "source": [
    "def display_all(df):\n",
    "    with pd.option_context(\"display.max_rows\", 100, \"display.max_columns\", 100): \n",
    "        print(df)"
   ]
  },
  {
   "cell_type": "code",
   "execution_count": 8,
   "metadata": {
    "id": "ceDogrv3Z04J"
   },
   "outputs": [],
   "source": [
    "def make_value2index(attacks):\n",
    "    #make dictionary\n",
    "    attacks = sorted(attacks)\n",
    "    d = {}\n",
    "    counter=0\n",
    "    for attack in attacks:\n",
    "        d[attack] = counter\n",
    "        counter+=1\n",
    "    return d"
   ]
  },
  {
   "cell_type": "code",
   "execution_count": 9,
   "metadata": {
    "id": "Ht3b8hIQZ04K"
   },
   "outputs": [],
   "source": [
    "# chganges label from string to integer/index\n",
    "def encode_label(Y_str):\n",
    "    labels_d = make_value2index(np.unique(Y_str))\n",
    "    Y = [labels_d[y_str] for y_str  in Y_str]\n",
    "    Y = np.array(Y)\n",
    "    return np.array(Y)"
   ]
  },
  {
   "cell_type": "code",
   "execution_count": 10,
   "metadata": {
    "id": "cwxZ7DrXZ04L"
   },
   "outputs": [],
   "source": [
    "# All columns\n",
    "col_names = np.array(['dst sport count', 'src dport count', 'dst src count', 'dport count', 'sport count', 'dst host count','src host count','Source Port', 'Destination Port',\n",
    "                      'Protocol', 'Flow Duration', 'Total Fwd Packets', 'Total Backward Packets', 'Total Length of Fwd Packets',\n",
    "                      'Total Length of Bwd Packets', 'Fwd Packet Length Max', 'Fwd Packet Length Min', 'Fwd Packet Length Mean',\n",
    "                      'Fwd Packet Length Std', 'Bwd Packet Length Max', 'Bwd Packet Length Min', 'Bwd Packet Length Mean', 'Bwd Packet Length Std',\n",
    "                      'Flow Bytes/s', 'Flow Packets/s', 'Flow IAT Mean', 'Flow IAT Std', 'Flow IAT Max', 'Flow IAT Min', 'Fwd IAT Total',\n",
    "                      'Fwd IAT Mean', 'Fwd IAT Std', 'Fwd IAT Max', 'Fwd IAT Min', 'Bwd IAT Total', 'Bwd IAT Mean', 'Bwd IAT Std', 'Bwd IAT Max',\n",
    "                      'Bwd IAT Min', 'Fwd PSH Flags', 'Fwd URG Flags', 'Fwd Header Length', 'Bwd Header Length',\n",
    "                      'Fwd Packets/s', 'Bwd Packets/s', 'Min Packet Length', 'Max Packet Length', 'Packet Length Mean', 'Packet Length Std',\n",
    "                      'Packet Length Variance', 'FIN Flag Count', 'SYN Flag Count', 'RST Flag Count', 'PSH Flag Count', 'ACK Flag Count',\n",
    "                      'URG Flag Count', 'CWE Flag Count', 'ECE Flag Count', 'Down/Up Ratio', 'Average Packet Size', 'Avg Fwd Segment Size',\n",
    "                      'Avg Bwd Segment Size','Subflow Fwd Packets', 'Subflow Fwd Bytes',\n",
    "                      'Subflow Bwd Packets', 'Subflow Bwd Bytes', 'Init_Win_bytes_forward', 'Init_Win_bytes_backward',\n",
    "                      'act_data_pkt_fwd', 'min_seg_size_forward', 'Active Mean', 'Active Std', 'Active Max', 'Active Min', 'Idle Mean',\n",
    "                      'Idle Std', 'Idle Max', 'Idle Min', 'Label'])"
   ]
  },
  {
   "cell_type": "code",
   "execution_count": 11,
   "metadata": {
    "id": "4qUtBnilZ04M"
   },
   "outputs": [],
   "source": [
    "df_train = pd.read_csv('train_MachineLearningCVE.csv',names=col_names, skiprows=1)  "
   ]
  },
  {
   "cell_type": "code",
   "execution_count": 12,
   "metadata": {
    "colab": {
     "base_uri": "https://localhost:8080/"
    },
    "id": "IBn8DsjhX_U4",
    "outputId": "79e661a0-54c8-45cd-d54e-b43bb0e36803",
    "scrolled": true
   },
   "outputs": [
    {
     "name": "stdout",
     "output_type": "stream",
     "text": [
      "Train set size:  (2264594, 79)\n"
     ]
    }
   ],
   "source": [
    "print('Train set size: ', df_train.shape)"
   ]
  },
  {
   "cell_type": "code",
   "execution_count": 13,
   "metadata": {
    "colab": {
     "base_uri": "https://localhost:8080/"
    },
    "id": "YXYvaCAjZ04P",
    "outputId": "46a0b5a3-4878-4e35-a12f-868c6851d6c2"
   },
   "outputs": [
    {
     "name": "stdout",
     "output_type": "stream",
     "text": [
      "Test set size:  (566149, 79)\n"
     ]
    }
   ],
   "source": [
    "df_test = pd.read_csv('test_MachineLearningCVE.csv',names=col_names, skiprows=1)  \n",
    "print('Test set size: ', df_test.shape)"
   ]
  },
  {
   "cell_type": "code",
   "execution_count": 14,
   "metadata": {
    "colab": {
     "base_uri": "https://localhost:8080/",
     "height": 275
    },
    "id": "q-oBvrtQXhv0",
    "outputId": "074a520b-b7ac-4e3b-c4a7-a006bfa3d21b"
   },
   "outputs": [
    {
     "data": {
      "text/html": [
       "<div>\n",
       "<style scoped>\n",
       "    .dataframe tbody tr th:only-of-type {\n",
       "        vertical-align: middle;\n",
       "    }\n",
       "\n",
       "    .dataframe tbody tr th {\n",
       "        vertical-align: top;\n",
       "    }\n",
       "\n",
       "    .dataframe thead th {\n",
       "        text-align: right;\n",
       "    }\n",
       "</style>\n",
       "<table border=\"1\" class=\"dataframe\">\n",
       "  <thead>\n",
       "    <tr style=\"text-align: right;\">\n",
       "      <th></th>\n",
       "      <th>dst sport count</th>\n",
       "      <th>src dport count</th>\n",
       "      <th>dst src count</th>\n",
       "      <th>dport count</th>\n",
       "      <th>sport count</th>\n",
       "      <th>dst host count</th>\n",
       "      <th>src host count</th>\n",
       "      <th>Source Port</th>\n",
       "      <th>Destination Port</th>\n",
       "      <th>Protocol</th>\n",
       "      <th>...</th>\n",
       "      <th>min_seg_size_forward</th>\n",
       "      <th>Active Mean</th>\n",
       "      <th>Active Std</th>\n",
       "      <th>Active Max</th>\n",
       "      <th>Active Min</th>\n",
       "      <th>Idle Mean</th>\n",
       "      <th>Idle Std</th>\n",
       "      <th>Idle Max</th>\n",
       "      <th>Idle Min</th>\n",
       "      <th>Label</th>\n",
       "    </tr>\n",
       "  </thead>\n",
       "  <tbody>\n",
       "    <tr>\n",
       "      <th>0</th>\n",
       "      <td>80</td>\n",
       "      <td>6018089.0</td>\n",
       "      <td>5</td>\n",
       "      <td>3</td>\n",
       "      <td>177</td>\n",
       "      <td>994</td>\n",
       "      <td>159</td>\n",
       "      <td>0</td>\n",
       "      <td>35.400000</td>\n",
       "      <td>69.143329</td>\n",
       "      <td>...</td>\n",
       "      <td>20.0</td>\n",
       "      <td>275923.0000</td>\n",
       "      <td>0.000</td>\n",
       "      <td>275923</td>\n",
       "      <td>275923</td>\n",
       "      <td>5742166.0</td>\n",
       "      <td>0.000000</td>\n",
       "      <td>5742166</td>\n",
       "      <td>5742166</td>\n",
       "      <td>0</td>\n",
       "    </tr>\n",
       "    <tr>\n",
       "      <th>1</th>\n",
       "      <td>443</td>\n",
       "      <td>323049.0</td>\n",
       "      <td>8</td>\n",
       "      <td>6</td>\n",
       "      <td>531</td>\n",
       "      <td>3208</td>\n",
       "      <td>194</td>\n",
       "      <td>0</td>\n",
       "      <td>66.375000</td>\n",
       "      <td>85.880211</td>\n",
       "      <td>...</td>\n",
       "      <td>20.0</td>\n",
       "      <td>0.0000</td>\n",
       "      <td>0.000</td>\n",
       "      <td>0</td>\n",
       "      <td>0</td>\n",
       "      <td>0.0</td>\n",
       "      <td>0.000000</td>\n",
       "      <td>0</td>\n",
       "      <td>0</td>\n",
       "      <td>0</td>\n",
       "    </tr>\n",
       "    <tr>\n",
       "      <th>2</th>\n",
       "      <td>80</td>\n",
       "      <td>39270118.0</td>\n",
       "      <td>9</td>\n",
       "      <td>10</td>\n",
       "      <td>898</td>\n",
       "      <td>3944</td>\n",
       "      <td>431</td>\n",
       "      <td>0</td>\n",
       "      <td>99.777778</td>\n",
       "      <td>187.795619</td>\n",
       "      <td>...</td>\n",
       "      <td>20.0</td>\n",
       "      <td>123253.6667</td>\n",
       "      <td>149943.928</td>\n",
       "      <td>296394</td>\n",
       "      <td>36667</td>\n",
       "      <td>10000000.0</td>\n",
       "      <td>300.561142</td>\n",
       "      <td>10000000</td>\n",
       "      <td>9999980</td>\n",
       "      <td>0</td>\n",
       "    </tr>\n",
       "    <tr>\n",
       "      <th>3</th>\n",
       "      <td>4848</td>\n",
       "      <td>43.0</td>\n",
       "      <td>1</td>\n",
       "      <td>1</td>\n",
       "      <td>2</td>\n",
       "      <td>6</td>\n",
       "      <td>2</td>\n",
       "      <td>2</td>\n",
       "      <td>2.000000</td>\n",
       "      <td>0.000000</td>\n",
       "      <td>...</td>\n",
       "      <td>24.0</td>\n",
       "      <td>0.0000</td>\n",
       "      <td>0.000</td>\n",
       "      <td>0</td>\n",
       "      <td>0</td>\n",
       "      <td>0.0</td>\n",
       "      <td>0.000000</td>\n",
       "      <td>0</td>\n",
       "      <td>0</td>\n",
       "      <td>10</td>\n",
       "    </tr>\n",
       "    <tr>\n",
       "      <th>4</th>\n",
       "      <td>80</td>\n",
       "      <td>5754816.0</td>\n",
       "      <td>3</td>\n",
       "      <td>1</td>\n",
       "      <td>12</td>\n",
       "      <td>0</td>\n",
       "      <td>6</td>\n",
       "      <td>0</td>\n",
       "      <td>4.000000</td>\n",
       "      <td>3.464102</td>\n",
       "      <td>...</td>\n",
       "      <td>20.0</td>\n",
       "      <td>0.0000</td>\n",
       "      <td>0.000</td>\n",
       "      <td>0</td>\n",
       "      <td>0</td>\n",
       "      <td>0.0</td>\n",
       "      <td>0.000000</td>\n",
       "      <td>0</td>\n",
       "      <td>0</td>\n",
       "      <td>0</td>\n",
       "    </tr>\n",
       "  </tbody>\n",
       "</table>\n",
       "<p>5 rows × 79 columns</p>\n",
       "</div>"
      ],
      "text/plain": [
       "   dst sport count  src dport count  dst src count  dport count  sport count  \\\n",
       "0               80        6018089.0              5            3          177   \n",
       "1              443         323049.0              8            6          531   \n",
       "2               80       39270118.0              9           10          898   \n",
       "3             4848             43.0              1            1            2   \n",
       "4               80        5754816.0              3            1           12   \n",
       "\n",
       "   dst host count  src host count  Source Port  Destination Port    Protocol  \\\n",
       "0             994             159            0         35.400000   69.143329   \n",
       "1            3208             194            0         66.375000   85.880211   \n",
       "2            3944             431            0         99.777778  187.795619   \n",
       "3               6               2            2          2.000000    0.000000   \n",
       "4               0               6            0          4.000000    3.464102   \n",
       "\n",
       "   ...  min_seg_size_forward  Active Mean  Active Std  Active Max  Active Min  \\\n",
       "0  ...                  20.0  275923.0000       0.000      275923      275923   \n",
       "1  ...                  20.0       0.0000       0.000           0           0   \n",
       "2  ...                  20.0  123253.6667  149943.928      296394       36667   \n",
       "3  ...                  24.0       0.0000       0.000           0           0   \n",
       "4  ...                  20.0       0.0000       0.000           0           0   \n",
       "\n",
       "    Idle Mean    Idle Std  Idle Max  Idle Min  Label  \n",
       "0   5742166.0    0.000000   5742166   5742166      0  \n",
       "1         0.0    0.000000         0         0      0  \n",
       "2  10000000.0  300.561142  10000000   9999980      0  \n",
       "3         0.0    0.000000         0         0     10  \n",
       "4         0.0    0.000000         0         0      0  \n",
       "\n",
       "[5 rows x 79 columns]"
      ]
     },
     "execution_count": 14,
     "metadata": {},
     "output_type": "execute_result"
    }
   ],
   "source": [
    "df_train.head()"
   ]
  },
  {
   "cell_type": "code",
   "execution_count": 15,
   "metadata": {
    "colab": {
     "base_uri": "https://localhost:8080/"
    },
    "id": "CpKy7b9fZ04O",
    "outputId": "fff8cae3-9ff9-4e4a-8dcb-19c5934b8416",
    "scrolled": true
   },
   "outputs": [
    {
     "data": {
      "text/plain": [
       "0     1818477\n",
       "4      184858\n",
       "10     127144\n",
       "2      102421\n",
       "3        8234\n",
       "7        6350\n",
       "11       4718\n",
       "6        4637\n",
       "5        4399\n",
       "1        1573\n",
       "12       1206\n",
       "14        522\n",
       "9          29\n",
       "13         17\n",
       "8           9\n",
       "Name: Label, dtype: int64"
      ]
     },
     "execution_count": 15,
     "metadata": {},
     "output_type": "execute_result"
    }
   ],
   "source": [
    "df_train['Label'].value_counts()"
   ]
  },
  {
   "cell_type": "code",
   "execution_count": 16,
   "metadata": {
    "colab": {
     "base_uri": "https://localhost:8080/",
     "height": 368
    },
    "id": "TP5wXlnNtCXd",
    "outputId": "e2f82892-5c40-4ce2-f786-07acb78f9c9f"
   },
   "outputs": [
    {
     "data": {
      "text/html": [
       "<div>\n",
       "<style scoped>\n",
       "    .dataframe tbody tr th:only-of-type {\n",
       "        vertical-align: middle;\n",
       "    }\n",
       "\n",
       "    .dataframe tbody tr th {\n",
       "        vertical-align: top;\n",
       "    }\n",
       "\n",
       "    .dataframe thead th {\n",
       "        text-align: right;\n",
       "    }\n",
       "</style>\n",
       "<table border=\"1\" class=\"dataframe\">\n",
       "  <thead>\n",
       "    <tr style=\"text-align: right;\">\n",
       "      <th></th>\n",
       "      <th>dst sport count</th>\n",
       "      <th>src dport count</th>\n",
       "      <th>dst src count</th>\n",
       "      <th>dport count</th>\n",
       "      <th>sport count</th>\n",
       "      <th>dst host count</th>\n",
       "      <th>src host count</th>\n",
       "      <th>Source Port</th>\n",
       "      <th>Destination Port</th>\n",
       "      <th>Protocol</th>\n",
       "      <th>...</th>\n",
       "      <th>min_seg_size_forward</th>\n",
       "      <th>Active Mean</th>\n",
       "      <th>Active Std</th>\n",
       "      <th>Active Max</th>\n",
       "      <th>Active Min</th>\n",
       "      <th>Idle Mean</th>\n",
       "      <th>Idle Std</th>\n",
       "      <th>Idle Max</th>\n",
       "      <th>Idle Min</th>\n",
       "      <th>Label</th>\n",
       "    </tr>\n",
       "  </thead>\n",
       "  <tbody>\n",
       "    <tr>\n",
       "      <th>count</th>\n",
       "      <td>2.264594e+06</td>\n",
       "      <td>2.264594e+06</td>\n",
       "      <td>2.264594e+06</td>\n",
       "      <td>2.264594e+06</td>\n",
       "      <td>2.264594e+06</td>\n",
       "      <td>2.264594e+06</td>\n",
       "      <td>2.264594e+06</td>\n",
       "      <td>2.264594e+06</td>\n",
       "      <td>2.264594e+06</td>\n",
       "      <td>2.264594e+06</td>\n",
       "      <td>...</td>\n",
       "      <td>2.264594e+06</td>\n",
       "      <td>2.264594e+06</td>\n",
       "      <td>2.264594e+06</td>\n",
       "      <td>2.264594e+06</td>\n",
       "      <td>2.264594e+06</td>\n",
       "      <td>2.264594e+06</td>\n",
       "      <td>2.264594e+06</td>\n",
       "      <td>2.264594e+06</td>\n",
       "      <td>2.264594e+06</td>\n",
       "      <td>2.264594e+06</td>\n",
       "    </tr>\n",
       "    <tr>\n",
       "      <th>mean</th>\n",
       "      <td>8.083469e+03</td>\n",
       "      <td>1.479315e+07</td>\n",
       "      <td>9.843101e+00</td>\n",
       "      <td>1.103084e+01</td>\n",
       "      <td>5.496153e+02</td>\n",
       "      <td>1.764019e+04</td>\n",
       "      <td>2.077673e+02</td>\n",
       "      <td>1.869240e+01</td>\n",
       "      <td>5.822619e+01</td>\n",
       "      <td>6.899965e+01</td>\n",
       "      <td>...</td>\n",
       "      <td>2.611347e+01</td>\n",
       "      <td>8.127506e+04</td>\n",
       "      <td>4.110607e+04</td>\n",
       "      <td>1.528082e+05</td>\n",
       "      <td>5.799099e+04</td>\n",
       "      <td>8.322365e+06</td>\n",
       "      <td>5.050259e+05</td>\n",
       "      <td>8.702922e+06</td>\n",
       "      <td>7.925571e+06</td>\n",
       "      <td>1.064424e+00</td>\n",
       "    </tr>\n",
       "    <tr>\n",
       "      <th>std</th>\n",
       "      <td>1.829501e+04</td>\n",
       "      <td>3.366280e+07</td>\n",
       "      <td>8.089885e+02</td>\n",
       "      <td>1.076331e+03</td>\n",
       "      <td>1.053290e+04</td>\n",
       "      <td>2.448270e+06</td>\n",
       "      <td>7.185458e+02</td>\n",
       "      <td>6.026335e+01</td>\n",
       "      <td>1.863955e+02</td>\n",
       "      <td>2.819866e+02</td>\n",
       "      <td>...</td>\n",
       "      <td>6.577371e+00</td>\n",
       "      <td>6.331009e+05</td>\n",
       "      <td>3.907903e+05</td>\n",
       "      <td>1.014727e+06</td>\n",
       "      <td>5.600375e+05</td>\n",
       "      <td>2.363823e+07</td>\n",
       "      <td>4.610524e+06</td>\n",
       "      <td>2.437702e+07</td>\n",
       "      <td>2.337079e+07</td>\n",
       "      <td>2.576436e+00</td>\n",
       "    </tr>\n",
       "    <tr>\n",
       "      <th>min</th>\n",
       "      <td>0.000000e+00</td>\n",
       "      <td>0.000000e+00</td>\n",
       "      <td>1.000000e+00</td>\n",
       "      <td>0.000000e+00</td>\n",
       "      <td>0.000000e+00</td>\n",
       "      <td>0.000000e+00</td>\n",
       "      <td>0.000000e+00</td>\n",
       "      <td>0.000000e+00</td>\n",
       "      <td>0.000000e+00</td>\n",
       "      <td>0.000000e+00</td>\n",
       "      <td>...</td>\n",
       "      <td>0.000000e+00</td>\n",
       "      <td>0.000000e+00</td>\n",
       "      <td>0.000000e+00</td>\n",
       "      <td>0.000000e+00</td>\n",
       "      <td>0.000000e+00</td>\n",
       "      <td>0.000000e+00</td>\n",
       "      <td>0.000000e+00</td>\n",
       "      <td>0.000000e+00</td>\n",
       "      <td>0.000000e+00</td>\n",
       "      <td>0.000000e+00</td>\n",
       "    </tr>\n",
       "    <tr>\n",
       "      <th>25%</th>\n",
       "      <td>5.300000e+01</td>\n",
       "      <td>1.550000e+02</td>\n",
       "      <td>2.000000e+00</td>\n",
       "      <td>1.000000e+00</td>\n",
       "      <td>1.200000e+01</td>\n",
       "      <td>0.000000e+00</td>\n",
       "      <td>6.000000e+00</td>\n",
       "      <td>0.000000e+00</td>\n",
       "      <td>6.000000e+00</td>\n",
       "      <td>0.000000e+00</td>\n",
       "      <td>...</td>\n",
       "      <td>2.000000e+01</td>\n",
       "      <td>0.000000e+00</td>\n",
       "      <td>0.000000e+00</td>\n",
       "      <td>0.000000e+00</td>\n",
       "      <td>0.000000e+00</td>\n",
       "      <td>0.000000e+00</td>\n",
       "      <td>0.000000e+00</td>\n",
       "      <td>0.000000e+00</td>\n",
       "      <td>0.000000e+00</td>\n",
       "      <td>0.000000e+00</td>\n",
       "    </tr>\n",
       "    <tr>\n",
       "      <th>50%</th>\n",
       "      <td>8.000000e+01</td>\n",
       "      <td>3.131600e+04</td>\n",
       "      <td>2.000000e+00</td>\n",
       "      <td>2.000000e+00</td>\n",
       "      <td>6.200000e+01</td>\n",
       "      <td>1.220000e+02</td>\n",
       "      <td>3.700000e+01</td>\n",
       "      <td>2.000000e+00</td>\n",
       "      <td>3.400000e+01</td>\n",
       "      <td>0.000000e+00</td>\n",
       "      <td>...</td>\n",
       "      <td>2.400000e+01</td>\n",
       "      <td>0.000000e+00</td>\n",
       "      <td>0.000000e+00</td>\n",
       "      <td>0.000000e+00</td>\n",
       "      <td>0.000000e+00</td>\n",
       "      <td>0.000000e+00</td>\n",
       "      <td>0.000000e+00</td>\n",
       "      <td>0.000000e+00</td>\n",
       "      <td>0.000000e+00</td>\n",
       "      <td>0.000000e+00</td>\n",
       "    </tr>\n",
       "    <tr>\n",
       "      <th>75%</th>\n",
       "      <td>4.430000e+02</td>\n",
       "      <td>3.211786e+06</td>\n",
       "      <td>5.000000e+00</td>\n",
       "      <td>4.000000e+00</td>\n",
       "      <td>1.870000e+02</td>\n",
       "      <td>4.820000e+02</td>\n",
       "      <td>8.100000e+01</td>\n",
       "      <td>3.600000e+01</td>\n",
       "      <td>5.000000e+01</td>\n",
       "      <td>2.616295e+01</td>\n",
       "      <td>...</td>\n",
       "      <td>3.200000e+01</td>\n",
       "      <td>0.000000e+00</td>\n",
       "      <td>0.000000e+00</td>\n",
       "      <td>0.000000e+00</td>\n",
       "      <td>0.000000e+00</td>\n",
       "      <td>0.000000e+00</td>\n",
       "      <td>0.000000e+00</td>\n",
       "      <td>0.000000e+00</td>\n",
       "      <td>0.000000e+00</td>\n",
       "      <td>0.000000e+00</td>\n",
       "    </tr>\n",
       "    <tr>\n",
       "      <th>max</th>\n",
       "      <td>6.553500e+04</td>\n",
       "      <td>1.200000e+08</td>\n",
       "      <td>2.197590e+05</td>\n",
       "      <td>2.919220e+05</td>\n",
       "      <td>1.290000e+07</td>\n",
       "      <td>6.554530e+08</td>\n",
       "      <td>2.482000e+04</td>\n",
       "      <td>2.325000e+03</td>\n",
       "      <td>5.940857e+03</td>\n",
       "      <td>7.049469e+03</td>\n",
       "      <td>...</td>\n",
       "      <td>1.380000e+02</td>\n",
       "      <td>1.100000e+08</td>\n",
       "      <td>7.420000e+07</td>\n",
       "      <td>1.100000e+08</td>\n",
       "      <td>1.100000e+08</td>\n",
       "      <td>1.200000e+08</td>\n",
       "      <td>7.690000e+07</td>\n",
       "      <td>1.200000e+08</td>\n",
       "      <td>1.200000e+08</td>\n",
       "      <td>1.400000e+01</td>\n",
       "    </tr>\n",
       "  </tbody>\n",
       "</table>\n",
       "<p>8 rows × 79 columns</p>\n",
       "</div>"
      ],
      "text/plain": [
       "       dst sport count  src dport count  dst src count   dport count  \\\n",
       "count     2.264594e+06     2.264594e+06   2.264594e+06  2.264594e+06   \n",
       "mean      8.083469e+03     1.479315e+07   9.843101e+00  1.103084e+01   \n",
       "std       1.829501e+04     3.366280e+07   8.089885e+02  1.076331e+03   \n",
       "min       0.000000e+00     0.000000e+00   1.000000e+00  0.000000e+00   \n",
       "25%       5.300000e+01     1.550000e+02   2.000000e+00  1.000000e+00   \n",
       "50%       8.000000e+01     3.131600e+04   2.000000e+00  2.000000e+00   \n",
       "75%       4.430000e+02     3.211786e+06   5.000000e+00  4.000000e+00   \n",
       "max       6.553500e+04     1.200000e+08   2.197590e+05  2.919220e+05   \n",
       "\n",
       "        sport count  dst host count  src host count   Source Port  \\\n",
       "count  2.264594e+06    2.264594e+06    2.264594e+06  2.264594e+06   \n",
       "mean   5.496153e+02    1.764019e+04    2.077673e+02  1.869240e+01   \n",
       "std    1.053290e+04    2.448270e+06    7.185458e+02  6.026335e+01   \n",
       "min    0.000000e+00    0.000000e+00    0.000000e+00  0.000000e+00   \n",
       "25%    1.200000e+01    0.000000e+00    6.000000e+00  0.000000e+00   \n",
       "50%    6.200000e+01    1.220000e+02    3.700000e+01  2.000000e+00   \n",
       "75%    1.870000e+02    4.820000e+02    8.100000e+01  3.600000e+01   \n",
       "max    1.290000e+07    6.554530e+08    2.482000e+04  2.325000e+03   \n",
       "\n",
       "       Destination Port      Protocol  ...  min_seg_size_forward  \\\n",
       "count      2.264594e+06  2.264594e+06  ...          2.264594e+06   \n",
       "mean       5.822619e+01  6.899965e+01  ...          2.611347e+01   \n",
       "std        1.863955e+02  2.819866e+02  ...          6.577371e+00   \n",
       "min        0.000000e+00  0.000000e+00  ...          0.000000e+00   \n",
       "25%        6.000000e+00  0.000000e+00  ...          2.000000e+01   \n",
       "50%        3.400000e+01  0.000000e+00  ...          2.400000e+01   \n",
       "75%        5.000000e+01  2.616295e+01  ...          3.200000e+01   \n",
       "max        5.940857e+03  7.049469e+03  ...          1.380000e+02   \n",
       "\n",
       "        Active Mean    Active Std    Active Max    Active Min     Idle Mean  \\\n",
       "count  2.264594e+06  2.264594e+06  2.264594e+06  2.264594e+06  2.264594e+06   \n",
       "mean   8.127506e+04  4.110607e+04  1.528082e+05  5.799099e+04  8.322365e+06   \n",
       "std    6.331009e+05  3.907903e+05  1.014727e+06  5.600375e+05  2.363823e+07   \n",
       "min    0.000000e+00  0.000000e+00  0.000000e+00  0.000000e+00  0.000000e+00   \n",
       "25%    0.000000e+00  0.000000e+00  0.000000e+00  0.000000e+00  0.000000e+00   \n",
       "50%    0.000000e+00  0.000000e+00  0.000000e+00  0.000000e+00  0.000000e+00   \n",
       "75%    0.000000e+00  0.000000e+00  0.000000e+00  0.000000e+00  0.000000e+00   \n",
       "max    1.100000e+08  7.420000e+07  1.100000e+08  1.100000e+08  1.200000e+08   \n",
       "\n",
       "           Idle Std      Idle Max      Idle Min         Label  \n",
       "count  2.264594e+06  2.264594e+06  2.264594e+06  2.264594e+06  \n",
       "mean   5.050259e+05  8.702922e+06  7.925571e+06  1.064424e+00  \n",
       "std    4.610524e+06  2.437702e+07  2.337079e+07  2.576436e+00  \n",
       "min    0.000000e+00  0.000000e+00  0.000000e+00  0.000000e+00  \n",
       "25%    0.000000e+00  0.000000e+00  0.000000e+00  0.000000e+00  \n",
       "50%    0.000000e+00  0.000000e+00  0.000000e+00  0.000000e+00  \n",
       "75%    0.000000e+00  0.000000e+00  0.000000e+00  0.000000e+00  \n",
       "max    7.690000e+07  1.200000e+08  1.200000e+08  1.400000e+01  \n",
       "\n",
       "[8 rows x 79 columns]"
      ]
     },
     "execution_count": 16,
     "metadata": {},
     "output_type": "execute_result"
    }
   ],
   "source": [
    "df_train.describe()"
   ]
  },
  {
   "cell_type": "code",
   "execution_count": 17,
   "metadata": {
    "colab": {
     "base_uri": "https://localhost:8080/"
    },
    "id": "U5hWm9Q-Z04Q",
    "outputId": "841a763e-70e3-4d20-baed-af578732d32d"
   },
   "outputs": [
    {
     "name": "stdout",
     "output_type": "stream",
     "text": [
      "Test set: \n"
     ]
    },
    {
     "data": {
      "text/plain": [
       "0     454620\n",
       "4      46215\n",
       "10     31786\n",
       "2      25606\n",
       "3       2059\n",
       "7       1588\n",
       "11      1179\n",
       "6       1159\n",
       "5       1100\n",
       "1        393\n",
       "12       301\n",
       "14       130\n",
       "9          7\n",
       "13         4\n",
       "8          2\n",
       "Name: Label, dtype: int64"
      ]
     },
     "execution_count": 17,
     "metadata": {},
     "output_type": "execute_result"
    }
   ],
   "source": [
    "print('Test set: ')\n",
    "df_test['Label'].value_counts()"
   ]
  },
  {
   "cell_type": "code",
   "execution_count": 18,
   "metadata": {
    "colab": {
     "base_uri": "https://localhost:8080/",
     "height": 368
    },
    "id": "i5H5oCfvtMm-",
    "outputId": "d9858e8e-82bb-4226-8e87-93e8c5488ff0",
    "scrolled": true
   },
   "outputs": [
    {
     "data": {
      "text/html": [
       "<div>\n",
       "<style scoped>\n",
       "    .dataframe tbody tr th:only-of-type {\n",
       "        vertical-align: middle;\n",
       "    }\n",
       "\n",
       "    .dataframe tbody tr th {\n",
       "        vertical-align: top;\n",
       "    }\n",
       "\n",
       "    .dataframe thead th {\n",
       "        text-align: right;\n",
       "    }\n",
       "</style>\n",
       "<table border=\"1\" class=\"dataframe\">\n",
       "  <thead>\n",
       "    <tr style=\"text-align: right;\">\n",
       "      <th></th>\n",
       "      <th>dst sport count</th>\n",
       "      <th>src dport count</th>\n",
       "      <th>dst src count</th>\n",
       "      <th>dport count</th>\n",
       "      <th>sport count</th>\n",
       "      <th>dst host count</th>\n",
       "      <th>src host count</th>\n",
       "      <th>Source Port</th>\n",
       "      <th>Destination Port</th>\n",
       "      <th>Protocol</th>\n",
       "      <th>...</th>\n",
       "      <th>min_seg_size_forward</th>\n",
       "      <th>Active Mean</th>\n",
       "      <th>Active Std</th>\n",
       "      <th>Active Max</th>\n",
       "      <th>Active Min</th>\n",
       "      <th>Idle Mean</th>\n",
       "      <th>Idle Std</th>\n",
       "      <th>Idle Max</th>\n",
       "      <th>Idle Min</th>\n",
       "      <th>Label</th>\n",
       "    </tr>\n",
       "  </thead>\n",
       "  <tbody>\n",
       "    <tr>\n",
       "      <th>count</th>\n",
       "      <td>566149.000000</td>\n",
       "      <td>5.661490e+05</td>\n",
       "      <td>566149.000000</td>\n",
       "      <td>566149.000000</td>\n",
       "      <td>5.661490e+05</td>\n",
       "      <td>5.661490e+05</td>\n",
       "      <td>566149.000000</td>\n",
       "      <td>566149.000000</td>\n",
       "      <td>566149.000000</td>\n",
       "      <td>566149.000000</td>\n",
       "      <td>...</td>\n",
       "      <td>566149.000000</td>\n",
       "      <td>5.661490e+05</td>\n",
       "      <td>5.661490e+05</td>\n",
       "      <td>5.661490e+05</td>\n",
       "      <td>5.661490e+05</td>\n",
       "      <td>5.661490e+05</td>\n",
       "      <td>5.661490e+05</td>\n",
       "      <td>5.661490e+05</td>\n",
       "      <td>5.661490e+05</td>\n",
       "      <td>566149.000000</td>\n",
       "    </tr>\n",
       "    <tr>\n",
       "      <th>mean</th>\n",
       "      <td>8023.536525</td>\n",
       "      <td>1.475572e+07</td>\n",
       "      <td>7.433398</td>\n",
       "      <td>7.845504</td>\n",
       "      <td>5.480510e+02</td>\n",
       "      <td>1.025244e+04</td>\n",
       "      <td>206.930559</td>\n",
       "      <td>18.798663</td>\n",
       "      <td>58.104949</td>\n",
       "      <td>68.552052</td>\n",
       "      <td>...</td>\n",
       "      <td>26.122669</td>\n",
       "      <td>8.265636e+04</td>\n",
       "      <td>4.124628e+04</td>\n",
       "      <td>1.546799e+05</td>\n",
       "      <td>5.951514e+04</td>\n",
       "      <td>8.290722e+06</td>\n",
       "      <td>4.991163e+05</td>\n",
       "      <td>8.667073e+06</td>\n",
       "      <td>7.897870e+06</td>\n",
       "      <td>1.064391</td>\n",
       "    </tr>\n",
       "    <tr>\n",
       "      <th>std</th>\n",
       "      <td>18237.981102</td>\n",
       "      <td>3.361749e+07</td>\n",
       "      <td>438.398407</td>\n",
       "      <td>583.054409</td>\n",
       "      <td>7.455954e+03</td>\n",
       "      <td>1.277379e+06</td>\n",
       "      <td>711.715142</td>\n",
       "      <td>60.642342</td>\n",
       "      <td>184.868811</td>\n",
       "      <td>277.965989</td>\n",
       "      <td>...</td>\n",
       "      <td>6.579084</td>\n",
       "      <td>7.072071e+05</td>\n",
       "      <td>4.035803e+05</td>\n",
       "      <td>1.069064e+06</td>\n",
       "      <td>6.407873e+05</td>\n",
       "      <td>2.359744e+07</td>\n",
       "      <td>4.572702e+06</td>\n",
       "      <td>2.432631e+07</td>\n",
       "      <td>2.333391e+07</td>\n",
       "      <td>2.576357</td>\n",
       "    </tr>\n",
       "    <tr>\n",
       "      <th>min</th>\n",
       "      <td>0.000000</td>\n",
       "      <td>0.000000e+00</td>\n",
       "      <td>1.000000</td>\n",
       "      <td>0.000000</td>\n",
       "      <td>0.000000e+00</td>\n",
       "      <td>0.000000e+00</td>\n",
       "      <td>0.000000</td>\n",
       "      <td>0.000000</td>\n",
       "      <td>0.000000</td>\n",
       "      <td>0.000000</td>\n",
       "      <td>...</td>\n",
       "      <td>0.000000</td>\n",
       "      <td>0.000000e+00</td>\n",
       "      <td>0.000000e+00</td>\n",
       "      <td>0.000000e+00</td>\n",
       "      <td>0.000000e+00</td>\n",
       "      <td>0.000000e+00</td>\n",
       "      <td>0.000000e+00</td>\n",
       "      <td>0.000000e+00</td>\n",
       "      <td>0.000000e+00</td>\n",
       "      <td>0.000000</td>\n",
       "    </tr>\n",
       "    <tr>\n",
       "      <th>25%</th>\n",
       "      <td>53.000000</td>\n",
       "      <td>1.550000e+02</td>\n",
       "      <td>2.000000</td>\n",
       "      <td>1.000000</td>\n",
       "      <td>1.200000e+01</td>\n",
       "      <td>2.000000e+00</td>\n",
       "      <td>6.000000</td>\n",
       "      <td>0.000000</td>\n",
       "      <td>6.000000</td>\n",
       "      <td>0.000000</td>\n",
       "      <td>...</td>\n",
       "      <td>20.000000</td>\n",
       "      <td>0.000000e+00</td>\n",
       "      <td>0.000000e+00</td>\n",
       "      <td>0.000000e+00</td>\n",
       "      <td>0.000000e+00</td>\n",
       "      <td>0.000000e+00</td>\n",
       "      <td>0.000000e+00</td>\n",
       "      <td>0.000000e+00</td>\n",
       "      <td>0.000000e+00</td>\n",
       "      <td>0.000000</td>\n",
       "    </tr>\n",
       "    <tr>\n",
       "      <th>50%</th>\n",
       "      <td>80.000000</td>\n",
       "      <td>3.131600e+04</td>\n",
       "      <td>2.000000</td>\n",
       "      <td>2.000000</td>\n",
       "      <td>6.200000e+01</td>\n",
       "      <td>1.240000e+02</td>\n",
       "      <td>37.000000</td>\n",
       "      <td>2.000000</td>\n",
       "      <td>34.000000</td>\n",
       "      <td>0.000000</td>\n",
       "      <td>...</td>\n",
       "      <td>24.000000</td>\n",
       "      <td>0.000000e+00</td>\n",
       "      <td>0.000000e+00</td>\n",
       "      <td>0.000000e+00</td>\n",
       "      <td>0.000000e+00</td>\n",
       "      <td>0.000000e+00</td>\n",
       "      <td>0.000000e+00</td>\n",
       "      <td>0.000000e+00</td>\n",
       "      <td>0.000000e+00</td>\n",
       "      <td>0.000000</td>\n",
       "    </tr>\n",
       "    <tr>\n",
       "      <th>75%</th>\n",
       "      <td>443.000000</td>\n",
       "      <td>3.175237e+06</td>\n",
       "      <td>5.000000</td>\n",
       "      <td>4.000000</td>\n",
       "      <td>1.870000e+02</td>\n",
       "      <td>4.800000e+02</td>\n",
       "      <td>81.000000</td>\n",
       "      <td>36.000000</td>\n",
       "      <td>50.000000</td>\n",
       "      <td>26.162951</td>\n",
       "      <td>...</td>\n",
       "      <td>32.000000</td>\n",
       "      <td>0.000000e+00</td>\n",
       "      <td>0.000000e+00</td>\n",
       "      <td>0.000000e+00</td>\n",
       "      <td>0.000000e+00</td>\n",
       "      <td>0.000000e+00</td>\n",
       "      <td>0.000000e+00</td>\n",
       "      <td>0.000000e+00</td>\n",
       "      <td>0.000000e+00</td>\n",
       "      <td>0.000000</td>\n",
       "    </tr>\n",
       "    <tr>\n",
       "      <th>max</th>\n",
       "      <td>65533.000000</td>\n",
       "      <td>1.200000e+08</td>\n",
       "      <td>199057.000000</td>\n",
       "      <td>269619.000000</td>\n",
       "      <td>2.866110e+06</td>\n",
       "      <td>5.840000e+08</td>\n",
       "      <td>24820.000000</td>\n",
       "      <td>1983.000000</td>\n",
       "      <td>4638.923469</td>\n",
       "      <td>7125.596846</td>\n",
       "      <td>...</td>\n",
       "      <td>126.000000</td>\n",
       "      <td>1.070000e+08</td>\n",
       "      <td>6.390000e+07</td>\n",
       "      <td>1.070000e+08</td>\n",
       "      <td>1.070000e+08</td>\n",
       "      <td>1.200000e+08</td>\n",
       "      <td>7.514502e+07</td>\n",
       "      <td>1.200000e+08</td>\n",
       "      <td>1.200000e+08</td>\n",
       "      <td>14.000000</td>\n",
       "    </tr>\n",
       "  </tbody>\n",
       "</table>\n",
       "<p>8 rows × 79 columns</p>\n",
       "</div>"
      ],
      "text/plain": [
       "       dst sport count  src dport count  dst src count    dport count  \\\n",
       "count    566149.000000     5.661490e+05  566149.000000  566149.000000   \n",
       "mean       8023.536525     1.475572e+07       7.433398       7.845504   \n",
       "std       18237.981102     3.361749e+07     438.398407     583.054409   \n",
       "min           0.000000     0.000000e+00       1.000000       0.000000   \n",
       "25%          53.000000     1.550000e+02       2.000000       1.000000   \n",
       "50%          80.000000     3.131600e+04       2.000000       2.000000   \n",
       "75%         443.000000     3.175237e+06       5.000000       4.000000   \n",
       "max       65533.000000     1.200000e+08  199057.000000  269619.000000   \n",
       "\n",
       "        sport count  dst host count  src host count    Source Port  \\\n",
       "count  5.661490e+05    5.661490e+05   566149.000000  566149.000000   \n",
       "mean   5.480510e+02    1.025244e+04      206.930559      18.798663   \n",
       "std    7.455954e+03    1.277379e+06      711.715142      60.642342   \n",
       "min    0.000000e+00    0.000000e+00        0.000000       0.000000   \n",
       "25%    1.200000e+01    2.000000e+00        6.000000       0.000000   \n",
       "50%    6.200000e+01    1.240000e+02       37.000000       2.000000   \n",
       "75%    1.870000e+02    4.800000e+02       81.000000      36.000000   \n",
       "max    2.866110e+06    5.840000e+08    24820.000000    1983.000000   \n",
       "\n",
       "       Destination Port       Protocol  ...  min_seg_size_forward  \\\n",
       "count     566149.000000  566149.000000  ...         566149.000000   \n",
       "mean          58.104949      68.552052  ...             26.122669   \n",
       "std          184.868811     277.965989  ...              6.579084   \n",
       "min            0.000000       0.000000  ...              0.000000   \n",
       "25%            6.000000       0.000000  ...             20.000000   \n",
       "50%           34.000000       0.000000  ...             24.000000   \n",
       "75%           50.000000      26.162951  ...             32.000000   \n",
       "max         4638.923469    7125.596846  ...            126.000000   \n",
       "\n",
       "        Active Mean    Active Std    Active Max    Active Min     Idle Mean  \\\n",
       "count  5.661490e+05  5.661490e+05  5.661490e+05  5.661490e+05  5.661490e+05   \n",
       "mean   8.265636e+04  4.124628e+04  1.546799e+05  5.951514e+04  8.290722e+06   \n",
       "std    7.072071e+05  4.035803e+05  1.069064e+06  6.407873e+05  2.359744e+07   \n",
       "min    0.000000e+00  0.000000e+00  0.000000e+00  0.000000e+00  0.000000e+00   \n",
       "25%    0.000000e+00  0.000000e+00  0.000000e+00  0.000000e+00  0.000000e+00   \n",
       "50%    0.000000e+00  0.000000e+00  0.000000e+00  0.000000e+00  0.000000e+00   \n",
       "75%    0.000000e+00  0.000000e+00  0.000000e+00  0.000000e+00  0.000000e+00   \n",
       "max    1.070000e+08  6.390000e+07  1.070000e+08  1.070000e+08  1.200000e+08   \n",
       "\n",
       "           Idle Std      Idle Max      Idle Min          Label  \n",
       "count  5.661490e+05  5.661490e+05  5.661490e+05  566149.000000  \n",
       "mean   4.991163e+05  8.667073e+06  7.897870e+06       1.064391  \n",
       "std    4.572702e+06  2.432631e+07  2.333391e+07       2.576357  \n",
       "min    0.000000e+00  0.000000e+00  0.000000e+00       0.000000  \n",
       "25%    0.000000e+00  0.000000e+00  0.000000e+00       0.000000  \n",
       "50%    0.000000e+00  0.000000e+00  0.000000e+00       0.000000  \n",
       "75%    0.000000e+00  0.000000e+00  0.000000e+00       0.000000  \n",
       "max    7.514502e+07  1.200000e+08  1.200000e+08      14.000000  \n",
       "\n",
       "[8 rows x 79 columns]"
      ]
     },
     "execution_count": 18,
     "metadata": {},
     "output_type": "execute_result"
    }
   ],
   "source": [
    "df_test.describe()"
   ]
  },
  {
   "cell_type": "code",
   "execution_count": 19,
   "metadata": {
    "id": "SsR6_hJDZ04R"
   },
   "outputs": [],
   "source": [
    "df_label = df_train['Label']\n",
    "data = df_train.drop(columns=['Label'])\n",
    "Xtrain = data.values\n",
    "y_train = encode_label(df_label.values)"
   ]
  },
  {
   "cell_type": "code",
   "execution_count": 20,
   "metadata": {
    "id": "GVSrGExFZ04S",
    "scrolled": true
   },
   "outputs": [],
   "source": [
    "df_label = df_test['Label']\n",
    "data = df_test.drop(columns=['Label'])\n",
    "Xtest = data.values\n",
    "y_test = encode_label(df_label.values)"
   ]
  },
  {
   "cell_type": "code",
   "execution_count": 21,
   "metadata": {
    "id": "z5izaj07Z04R"
   },
   "outputs": [],
   "source": [
    "from sklearn.preprocessing import MinMaxScaler"
   ]
  },
  {
   "cell_type": "code",
   "execution_count": 22,
   "metadata": {
    "colab": {
     "base_uri": "https://localhost:8080/"
    },
    "id": "pbYQFmfgZ04S",
    "outputId": "260b9b5f-df75-4135-a69e-d6a17a792fbf",
    "scrolled": true
   },
   "outputs": [
    {
     "data": {
      "text/plain": [
       "array([[1.22072175e-03, 5.01507425e-02, 1.82018402e-05, ...,\n",
       "        0.00000000e+00, 4.78513833e-02, 4.78513833e-02],\n",
       "       [6.75974670e-03, 2.69207504e-03, 3.18532204e-05, ...,\n",
       "        0.00000000e+00, 0.00000000e+00, 0.00000000e+00],\n",
       "       [1.22072175e-03, 3.27250989e-01, 3.64036804e-05, ...,\n",
       "        3.90846738e-06, 8.33333333e-02, 8.33331667e-02],\n",
       "       ...,\n",
       "       [1.14290074e-02, 3.58333339e-07, 0.00000000e+00, ...,\n",
       "        0.00000000e+00, 0.00000000e+00, 0.00000000e+00],\n",
       "       [2.71915770e-02, 6.50000011e-07, 0.00000000e+00, ...,\n",
       "        0.00000000e+00, 0.00000000e+00, 0.00000000e+00],\n",
       "       [9.97756924e-01, 6.32742594e-02, 0.00000000e+00, ...,\n",
       "        0.00000000e+00, 6.30086083e-02, 6.30086083e-02]])"
      ]
     },
     "execution_count": 22,
     "metadata": {},
     "output_type": "execute_result"
    }
   ],
   "source": [
    "scaler = MinMaxScaler()\n",
    "X_train = scaler.fit_transform(Xtrain)\n",
    "X_train"
   ]
  },
  {
   "cell_type": "code",
   "execution_count": 23,
   "metadata": {
    "colab": {
     "base_uri": "https://localhost:8080/"
    },
    "id": "lXmp2w2bZ04T",
    "outputId": "8644b787-9132-4807-8a03-b6f09c5ae8cc"
   },
   "outputs": [
    {
     "data": {
      "text/plain": [
       "array([[8.08728161e-04, 1.50000003e-06, 4.55046005e-06, ...,\n",
       "        0.00000000e+00, 0.00000000e+00, 0.00000000e+00],\n",
       "       [1.22072175e-03, 7.01777962e-01, 4.09541405e-05, ...,\n",
       "        0.00000000e+00, 6.96666667e-01, 6.96666667e-01],\n",
       "       [1.34279393e-03, 1.30000002e-06, 0.00000000e+00, ...,\n",
       "        0.00000000e+00, 0.00000000e+00, 0.00000000e+00],\n",
       "       ...,\n",
       "       [1.22072175e-03, 1.16711919e-02, 9.10092010e-06, ...,\n",
       "        0.00000000e+00, 0.00000000e+00, 0.00000000e+00],\n",
       "       [8.08728161e-04, 6.83175011e-04, 1.36513802e-05, ...,\n",
       "        0.00000000e+00, 0.00000000e+00, 0.00000000e+00],\n",
       "       [3.54467079e-02, 6.00000010e-07, 0.00000000e+00, ...,\n",
       "        0.00000000e+00, 0.00000000e+00, 0.00000000e+00]])"
      ]
     },
     "execution_count": 23,
     "metadata": {},
     "output_type": "execute_result"
    }
   ],
   "source": [
    "X_test = scaler.transform(Xtest)\n",
    "X_test"
   ]
  },
  {
   "cell_type": "code",
   "execution_count": 24,
   "metadata": {
    "id": "Fu459dh3Xhv7"
   },
   "outputs": [],
   "source": [
    "from sklearn.preprocessing import StandardScaler"
   ]
  },
  {
   "cell_type": "code",
   "execution_count": 25,
   "metadata": {
    "colab": {
     "base_uri": "https://localhost:8080/"
    },
    "id": "QOJud1h5Xhv7",
    "outputId": "3df359e2-9572-43f9-dd47-34a1d006f6c7"
   },
   "outputs": [
    {
     "data": {
      "text/plain": [
       "array([[-4.38943193e-01, -4.39445625e-01, -9.69494948e-03, ...,\n",
       "        -1.09537648e-01, -3.57013384e-01, -3.39122989e-01],\n",
       "       [-4.37467380e-01,  2.06222335e+00,  1.93944960e-04, ...,\n",
       "        -1.09537648e-01,  3.07244625e+00,  3.23799222e+00],\n",
       "       [-4.37030103e-01, -4.39446338e-01, -1.09310613e-02, ...,\n",
       "        -1.09537648e-01, -3.57013384e-01, -3.39122989e-01],\n",
       "       ...,\n",
       "       [-4.37467380e-01, -3.97845903e-01, -8.45883767e-03, ...,\n",
       "        -1.09537648e-01, -3.57013384e-01, -3.39122989e-01],\n",
       "       [-4.38943193e-01, -4.37015613e-01, -7.22272587e-03, ...,\n",
       "        -1.09537648e-01, -3.57013384e-01, -3.39122989e-01],\n",
       "       [-3.14865627e-01, -4.39448833e-01, -1.09310613e-02, ...,\n",
       "        -1.09537648e-01, -3.57013384e-01, -3.39122989e-01]])"
      ]
     },
     "execution_count": 25,
     "metadata": {},
     "output_type": "execute_result"
    }
   ],
   "source": [
    "scaler = StandardScaler()\n",
    "\n",
    "X_train = scaler.fit_transform(Xtrain)\n",
    "X_test = scaler.transform(Xtest)\n",
    "\n",
    "X_test"
   ]
  },
  {
   "cell_type": "code",
   "execution_count": 26,
   "metadata": {
    "id": "Yc97u4oZZ04U"
   },
   "outputs": [],
   "source": [
    "from tensorflow.keras.utils import to_categorical"
   ]
  },
  {
   "cell_type": "code",
   "execution_count": 27,
   "metadata": {
    "id": "8N0GfC_zXhv8"
   },
   "outputs": [],
   "source": [
    "y_train_ada = y_train\n",
    "y_test_ada = y_test"
   ]
  },
  {
   "cell_type": "code",
   "execution_count": 28,
   "metadata": {
    "id": "MQVqV19KZ04U"
   },
   "outputs": [],
   "source": [
    "y_train = to_categorical(y_train, 15)\n",
    "y_test = to_categorical(y_test, 15)"
   ]
  },
  {
   "cell_type": "code",
   "execution_count": 29,
   "metadata": {
    "colab": {
     "base_uri": "https://localhost:8080/"
    },
    "id": "dqOSi1KcXhv8",
    "outputId": "0dece3bf-a58d-4298-8551-6f9a34b90c5b"
   },
   "outputs": [
    {
     "name": "stdout",
     "output_type": "stream",
     "text": [
      "WARNING:tensorflow:From C:\\Users\\shara\\anaconda3\\lib\\site-packages\\tensorflow\\python\\compat\\v2_compat.py:107: disable_resource_variables (from tensorflow.python.ops.variable_scope) is deprecated and will be removed in a future version.\n",
      "Instructions for updating:\n",
      "non-resource variables are not supported in the long term\n"
     ]
    }
   ],
   "source": [
    "import tensorflow as tf\n",
    "tf.compat.v1.disable_v2_behavior()\n",
    "from sklearn.ensemble import RandomForestClassifier\n",
    "\n",
    "#importing confusion matrix\n",
    "from sklearn.metrics import confusion_matrix\n",
    "from sklearn.metrics import classification_report\n",
    "\n",
    "from sklearn import metrics\n",
    "from sklearn.metrics import accuracy_score\n",
    "\n",
    "#importing accuracy_score, precision_score, recall_score, f1_score\n",
    "from sklearn.metrics import accuracy_score, precision_score, recall_score, f1_score\n",
    "from sklearn.metrics import mean_squared_error,mean_absolute_error"
   ]
  },
  {
   "cell_type": "code",
   "execution_count": 30,
   "metadata": {
    "id": "q9AlIiTKXhwC"
   },
   "outputs": [],
   "source": [
    "labels_d = make_value2index(df_test['Label'])"
   ]
  },
  {
   "cell_type": "code",
   "execution_count": 31,
   "metadata": {
    "colab": {
     "base_uri": "https://localhost:8080/"
    },
    "id": "l1vqAhE1XhwC",
    "outputId": "43acab5d-696b-482d-e1fd-abda12bb67d6"
   },
   "outputs": [
    {
     "name": "stdout",
     "output_type": "stream",
     "text": [
      "{0: 454619, 1: 455012, 2: 480618, 3: 482677, 4: 528892, 5: 529992, 6: 531151, 7: 532739, 8: 532741, 9: 532748, 10: 564534, 11: 565713, 12: 566014, 13: 566018, 14: 566148}\n"
     ]
    }
   ],
   "source": [
    "print(labels_d)"
   ]
  },
  {
   "cell_type": "code",
   "execution_count": 32,
   "metadata": {
    "id": "yTmLBZDpZ04U"
   },
   "outputs": [],
   "source": [
    "from tensorflow.keras.models import Sequential\n",
    "from tensorflow.keras.layers import Conv1D, BatchNormalization, Flatten, Dense, Activation,Dropout,MaxPooling1D\n",
    "from tensorflow.keras.constraints import max_norm"
   ]
  },
  {
   "cell_type": "code",
   "execution_count": 33,
   "metadata": {
    "colab": {
     "base_uri": "https://localhost:8080/"
    },
    "id": "xLXy3meMZ04U",
    "outputId": "3bbb61c9-22d6-4574-bdb9-89e13487fc06"
   },
   "outputs": [
    {
     "name": "stdout",
     "output_type": "stream",
     "text": [
      "78\n",
      "15\n"
     ]
    },
    {
     "name": "stderr",
     "output_type": "stream",
     "text": [
      "C:\\Users\\shara\\anaconda3\\lib\\site-packages\\keras\\optimizers\\optimizer_v2\\adam.py:114: UserWarning: The `lr` argument is deprecated, use `learning_rate` instead.\n",
      "  super().__init__(name, **kwargs)\n"
     ]
    }
   ],
   "source": [
    "#hyper-params\n",
    "batch_size = 7500 # increasing batch size with more gpu added\n",
    "input_dim = X_train.shape[1]\n",
    "num_class = 15                   # 15 intrusion classes, including benign traffic class\n",
    "num_epochs = 6\n",
    "learning_rates = 1e-4\n",
    "regularizations = 1e-3\n",
    "optim = tf.keras.optimizers.Adam(lr=learning_rates, beta_1=0.9, beta_2=0.999, epsilon=1e-8)\n",
    "\n",
    "print(input_dim)\n",
    "print(num_class)"
   ]
  },
  {
   "cell_type": "code",
   "execution_count": 34,
   "metadata": {
    "colab": {
     "base_uri": "https://localhost:8080/"
    },
    "id": "CD14l7YP5NHD",
    "outputId": "a79da790-7d5d-4723-be7d-91e5879beaec"
   },
   "outputs": [
    {
     "data": {
      "text/plain": [
       "(2264594, 78)"
      ]
     },
     "execution_count": 34,
     "metadata": {},
     "output_type": "execute_result"
    }
   ],
   "source": [
    "X_train.shape"
   ]
  },
  {
   "cell_type": "code",
   "execution_count": 35,
   "metadata": {
    "colab": {
     "base_uri": "https://localhost:8080/"
    },
    "id": "mNRbsq6CZ04V",
    "outputId": "c8d565b3-6e37-4520-fb5d-4f263e86955d"
   },
   "outputs": [
    {
     "name": "stdout",
     "output_type": "stream",
     "text": [
      "(2264594, 78, 1)\n"
     ]
    }
   ],
   "source": [
    "#X_train_r = np.reshape(X_train, (X_train.shape[0], X_train.shape[1], 1))\n",
    "X_train_r = np.zeros((len(X_train), input_dim, 1))\n",
    "X_train_r[:, :, 0] = X_train[:, :input_dim]\n",
    "print(X_train_r.shape)"
   ]
  },
  {
   "cell_type": "code",
   "execution_count": 36,
   "metadata": {
    "colab": {
     "base_uri": "https://localhost:8080/"
    },
    "id": "UjmIpn1HZ04W",
    "outputId": "959d7d2f-72f6-42a4-aacb-c4c8aae05651"
   },
   "outputs": [
    {
     "name": "stdout",
     "output_type": "stream",
     "text": [
      "(566149, 78, 1)\n"
     ]
    }
   ],
   "source": [
    "X_test_r = np.zeros((len(X_test), input_dim, 1))\n",
    "X_test_r[:, :, 0] = X_test[:, :input_dim]\n",
    "print(X_test_r.shape)"
   ]
  },
  {
   "cell_type": "code",
   "execution_count": 37,
   "metadata": {
    "colab": {
     "base_uri": "https://localhost:8080/"
    },
    "id": "4Kk1r733zeN6",
    "outputId": "7492a9a1-a089-4840-f7b2-40f41ad8dd3c"
   },
   "outputs": [
    {
     "data": {
      "text/plain": [
       "numpy.ndarray"
      ]
     },
     "execution_count": 37,
     "metadata": {},
     "output_type": "execute_result"
    }
   ],
   "source": [
    "type(X_train_r)"
   ]
  },
  {
   "cell_type": "code",
   "execution_count": 38,
   "metadata": {
    "colab": {
     "base_uri": "https://localhost:8080/"
    },
    "id": "jpTZU5OPZ04W",
    "outputId": "0096ef9b-3ba1-4c06-8308-5e1029988fc3"
   },
   "outputs": [
    {
     "name": "stdout",
     "output_type": "stream",
     "text": [
      "WARNING:tensorflow:From C:\\Users\\shara\\anaconda3\\lib\\site-packages\\keras\\layers\\normalization\\batch_normalization.py:562: _colocate_with (from tensorflow.python.framework.ops) is deprecated and will be removed in a future version.\n",
      "Instructions for updating:\n",
      "Colocations handled automatically by placer.\n",
      "Model: \"sequential\"\n",
      "_________________________________________________________________\n",
      " Layer (type)                Output Shape              Param #   \n",
      "=================================================================\n",
      " conv1d (Conv1D)             (None, 78, 32)            768       \n",
      "                                                                 \n",
      " conv1d_1 (Conv1D)           (None, 78, 32)            17440     \n",
      "                                                                 \n",
      " max_pooling1d (MaxPooling1D  (None, 39, 32)           0         \n",
      " )                                                               \n",
      "                                                                 \n",
      " dropout (Dropout)           (None, 39, 32)            0         \n",
      "                                                                 \n",
      " batch_normalization (BatchN  (None, 39, 32)           156       \n",
      " ormalization)                                                   \n",
      "                                                                 \n",
      " conv1d_2 (Conv1D)           (None, 39, 64)            47168     \n",
      "                                                                 \n",
      " conv1d_3 (Conv1D)           (None, 39, 64)            69696     \n",
      "                                                                 \n",
      " max_pooling1d_1 (MaxPooling  (None, 19, 64)           0         \n",
      " 1D)                                                             \n",
      "                                                                 \n",
      " dropout_1 (Dropout)         (None, 19, 64)            0         \n",
      "                                                                 \n",
      " batch_normalization_1 (Batc  (None, 19, 64)           76        \n",
      " hNormalization)                                                 \n",
      "                                                                 \n",
      " flatten (Flatten)           (None, 1216)              0         \n",
      "                                                                 \n",
      " dense (Dense)               (None, 32)                38944     \n",
      "                                                                 \n",
      " dropout_2 (Dropout)         (None, 32)                0         \n",
      "                                                                 \n",
      " dense_1 (Dense)             (None, 15)                495       \n",
      "                                                                 \n",
      " activation (Activation)     (None, 15)                0         \n",
      "                                                                 \n",
      "=================================================================\n",
      "Total params: 174,743\n",
      "Trainable params: 174,627\n",
      "Non-trainable params: 116\n",
      "_________________________________________________________________\n"
     ]
    }
   ],
   "source": [
    "model = Sequential()\n",
    "\n",
    "# input layer\n",
    "model.add(Conv1D(filters=32, kernel_size=23, activation='relu', padding='same', kernel_initializer='he_uniform', input_shape=(78,1)))\n",
    "model.add(Conv1D(filters=32, kernel_size=17, activation='relu', padding='same', kernel_initializer='he_uniform'))\n",
    "model.add(MaxPooling1D(pool_size=2,strides=2))\n",
    "model.add(Dropout(0.2))\n",
    "model.add(BatchNormalization(axis=1))\n",
    "\n",
    "model.add(Conv1D(filters=64, kernel_size=23, activation='relu', padding='same', kernel_initializer='he_uniform'))\n",
    "model.add(Conv1D(filters=64, kernel_size=17, activation='relu', padding='same', kernel_initializer='he_uniform'))\n",
    "model.add(MaxPooling1D(pool_size=2,strides=2))\n",
    "model.add(Dropout(0.2))\n",
    "model.add(BatchNormalization(axis=1)) \n",
    "\n",
    "model.add(Flatten())\n",
    "model.add(Dense(32, activation='relu'))\n",
    "model.add(Dropout(0.2))\n",
    "model.add(Dense(num_class))\n",
    "model.add(Activation('softmax'))\n",
    "\n",
    "model.summary()"
   ]
  },
  {
   "cell_type": "code",
   "execution_count": 39,
   "metadata": {
    "id": "VpUP50cvVgzg"
   },
   "outputs": [],
   "source": [
    "METRICS = [\n",
    "      tf.keras.metrics.TruePositives(name='tp'),\n",
    "      tf.keras.metrics.FalsePositives(name='fp'),\n",
    "      tf.keras.metrics.TrueNegatives(name='tn'),\n",
    "      tf.keras.metrics.FalseNegatives(name='fn'), \n",
    "      tf.keras.metrics.BinaryAccuracy(name='accuracy'),\n",
    "      tf.keras.metrics.Precision(name='precision'),\n",
    "      tf.keras.metrics.Recall(name='recall'),\n",
    "      #tf.keras.metrics.AUC(name='auc'),\n",
    "]\n",
    "\n",
    "metrics=METRICS"
   ]
  },
  {
   "cell_type": "code",
   "execution_count": null,
   "metadata": {
    "colab": {
     "base_uri": "https://localhost:8080/"
    },
    "id": "ldBRHXx_50pg",
    "outputId": "6d379d62-982e-4e3b-9d57-6b53f17659f4"
   },
   "outputs": [
    {
     "name": "stdout",
     "output_type": "stream",
     "text": [
      "Train on 2264594 samples\n"
     ]
    }
   ],
   "source": [
    "from tensorflow.keras.optimizers import Nadam\n",
    "from tensorflow.keras.callbacks import LearningRateScheduler, ModelCheckpoint\n",
    "import tensorflow.keras\n",
    "import time\n",
    "time_start = time.time()\n",
    "\n",
    "nadam = Nadam(learning_rate=0.001, beta_1=0.9, beta_2=0.999, epsilon=1e-08, schedule_decay=0.004)\n",
    "model.compile(loss = \"categorical_crossentropy\",optimizer = \"nadam\", metrics = metrics)\n",
    "\n",
    "#model.compile(\n",
    "#      optimizer=tf.keras.optimizers.Adam(lr=1e-4),\n",
    "#      loss=tf.keras.losses.BinaryCrossentropy(),\n",
    "#      metrics=metrics)\n",
    "  \n",
    "\n",
    "history = model.fit(X_train_r, y_train, \n",
    "                    epochs=1, \n",
    "                    batch_size=batch_size, \n",
    "                    verbose=2)\n",
    "time_end = time.time()\n",
    "train_time = time_end - time_start\n",
    "print(\"train_time:\",train_time)"
   ]
  },
  {
   "cell_type": "code",
   "execution_count": null,
   "metadata": {},
   "outputs": [],
   "source": []
  }
 ],
 "metadata": {
  "accelerator": "GPU",
  "colab": {
   "collapsed_sections": [],
   "name": "CNN1D_78_features_split_50_50.ipynb",
   "provenance": []
  },
  "kernelspec": {
   "display_name": "Python 3 (ipykernel)",
   "language": "python",
   "name": "python3"
  },
  "language_info": {
   "codemirror_mode": {
    "name": "ipython",
    "version": 3
   },
   "file_extension": ".py",
   "mimetype": "text/x-python",
   "name": "python",
   "nbconvert_exporter": "python",
   "pygments_lexer": "ipython3",
   "version": "3.9.13"
  }
 },
 "nbformat": 4,
 "nbformat_minor": 1
}
