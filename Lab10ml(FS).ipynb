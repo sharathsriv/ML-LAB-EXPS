{
 "cells": [
  {
   "cell_type": "markdown",
   "metadata": {},
   "source": [
    "# LAB EXPERIMENT 10\n",
    "\n",
    "## M Sharath Srivatsan\n",
    "## 19BCE1688"
   ]
  },
  {
   "cell_type": "markdown",
   "metadata": {},
   "source": [
    "### Feature Selection on Iris Dataset"
   ]
  },
  {
   "cell_type": "code",
   "execution_count": 1,
   "metadata": {
    "colab": {},
    "colab_type": "code",
    "id": "GltFmD4v3dY9"
   },
   "outputs": [],
   "source": [
    "from sklearn.datasets import load_iris\n",
    "import  matplotlib.pyplot as plt\n",
    "import seaborn as sns"
   ]
  },
  {
   "cell_type": "code",
   "execution_count": 2,
   "metadata": {
    "colab": {},
    "colab_type": "code",
    "id": "eYCB4QCT3sdw"
   },
   "outputs": [
    {
     "name": "stdout",
     "output_type": "stream",
     "text": [
      "{'data': array([[5.1, 3.5, 1.4, 0.2],\n",
      "       [4.9, 3. , 1.4, 0.2],\n",
      "       [4.7, 3.2, 1.3, 0.2],\n",
      "       [4.6, 3.1, 1.5, 0.2],\n",
      "       [5. , 3.6, 1.4, 0.2],\n",
      "       [5.4, 3.9, 1.7, 0.4],\n",
      "       [4.6, 3.4, 1.4, 0.3],\n",
      "       [5. , 3.4, 1.5, 0.2],\n",
      "       [4.4, 2.9, 1.4, 0.2],\n",
      "       [4.9, 3.1, 1.5, 0.1],\n",
      "       [5.4, 3.7, 1.5, 0.2],\n",
      "       [4.8, 3.4, 1.6, 0.2],\n",
      "       [4.8, 3. , 1.4, 0.1],\n",
      "       [4.3, 3. , 1.1, 0.1],\n",
      "       [5.8, 4. , 1.2, 0.2],\n",
      "       [5.7, 4.4, 1.5, 0.4],\n",
      "       [5.4, 3.9, 1.3, 0.4],\n",
      "       [5.1, 3.5, 1.4, 0.3],\n",
      "       [5.7, 3.8, 1.7, 0.3],\n",
      "       [5.1, 3.8, 1.5, 0.3],\n",
      "       [5.4, 3.4, 1.7, 0.2],\n",
      "       [5.1, 3.7, 1.5, 0.4],\n",
      "       [4.6, 3.6, 1. , 0.2],\n",
      "       [5.1, 3.3, 1.7, 0.5],\n",
      "       [4.8, 3.4, 1.9, 0.2],\n",
      "       [5. , 3. , 1.6, 0.2],\n",
      "       [5. , 3.4, 1.6, 0.4],\n",
      "       [5.2, 3.5, 1.5, 0.2],\n",
      "       [5.2, 3.4, 1.4, 0.2],\n",
      "       [4.7, 3.2, 1.6, 0.2],\n",
      "       [4.8, 3.1, 1.6, 0.2],\n",
      "       [5.4, 3.4, 1.5, 0.4],\n",
      "       [5.2, 4.1, 1.5, 0.1],\n",
      "       [5.5, 4.2, 1.4, 0.2],\n",
      "       [4.9, 3.1, 1.5, 0.2],\n",
      "       [5. , 3.2, 1.2, 0.2],\n",
      "       [5.5, 3.5, 1.3, 0.2],\n",
      "       [4.9, 3.6, 1.4, 0.1],\n",
      "       [4.4, 3. , 1.3, 0.2],\n",
      "       [5.1, 3.4, 1.5, 0.2],\n",
      "       [5. , 3.5, 1.3, 0.3],\n",
      "       [4.5, 2.3, 1.3, 0.3],\n",
      "       [4.4, 3.2, 1.3, 0.2],\n",
      "       [5. , 3.5, 1.6, 0.6],\n",
      "       [5.1, 3.8, 1.9, 0.4],\n",
      "       [4.8, 3. , 1.4, 0.3],\n",
      "       [5.1, 3.8, 1.6, 0.2],\n",
      "       [4.6, 3.2, 1.4, 0.2],\n",
      "       [5.3, 3.7, 1.5, 0.2],\n",
      "       [5. , 3.3, 1.4, 0.2],\n",
      "       [7. , 3.2, 4.7, 1.4],\n",
      "       [6.4, 3.2, 4.5, 1.5],\n",
      "       [6.9, 3.1, 4.9, 1.5],\n",
      "       [5.5, 2.3, 4. , 1.3],\n",
      "       [6.5, 2.8, 4.6, 1.5],\n",
      "       [5.7, 2.8, 4.5, 1.3],\n",
      "       [6.3, 3.3, 4.7, 1.6],\n",
      "       [4.9, 2.4, 3.3, 1. ],\n",
      "       [6.6, 2.9, 4.6, 1.3],\n",
      "       [5.2, 2.7, 3.9, 1.4],\n",
      "       [5. , 2. , 3.5, 1. ],\n",
      "       [5.9, 3. , 4.2, 1.5],\n",
      "       [6. , 2.2, 4. , 1. ],\n",
      "       [6.1, 2.9, 4.7, 1.4],\n",
      "       [5.6, 2.9, 3.6, 1.3],\n",
      "       [6.7, 3.1, 4.4, 1.4],\n",
      "       [5.6, 3. , 4.5, 1.5],\n",
      "       [5.8, 2.7, 4.1, 1. ],\n",
      "       [6.2, 2.2, 4.5, 1.5],\n",
      "       [5.6, 2.5, 3.9, 1.1],\n",
      "       [5.9, 3.2, 4.8, 1.8],\n",
      "       [6.1, 2.8, 4. , 1.3],\n",
      "       [6.3, 2.5, 4.9, 1.5],\n",
      "       [6.1, 2.8, 4.7, 1.2],\n",
      "       [6.4, 2.9, 4.3, 1.3],\n",
      "       [6.6, 3. , 4.4, 1.4],\n",
      "       [6.8, 2.8, 4.8, 1.4],\n",
      "       [6.7, 3. , 5. , 1.7],\n",
      "       [6. , 2.9, 4.5, 1.5],\n",
      "       [5.7, 2.6, 3.5, 1. ],\n",
      "       [5.5, 2.4, 3.8, 1.1],\n",
      "       [5.5, 2.4, 3.7, 1. ],\n",
      "       [5.8, 2.7, 3.9, 1.2],\n",
      "       [6. , 2.7, 5.1, 1.6],\n",
      "       [5.4, 3. , 4.5, 1.5],\n",
      "       [6. , 3.4, 4.5, 1.6],\n",
      "       [6.7, 3.1, 4.7, 1.5],\n",
      "       [6.3, 2.3, 4.4, 1.3],\n",
      "       [5.6, 3. , 4.1, 1.3],\n",
      "       [5.5, 2.5, 4. , 1.3],\n",
      "       [5.5, 2.6, 4.4, 1.2],\n",
      "       [6.1, 3. , 4.6, 1.4],\n",
      "       [5.8, 2.6, 4. , 1.2],\n",
      "       [5. , 2.3, 3.3, 1. ],\n",
      "       [5.6, 2.7, 4.2, 1.3],\n",
      "       [5.7, 3. , 4.2, 1.2],\n",
      "       [5.7, 2.9, 4.2, 1.3],\n",
      "       [6.2, 2.9, 4.3, 1.3],\n",
      "       [5.1, 2.5, 3. , 1.1],\n",
      "       [5.7, 2.8, 4.1, 1.3],\n",
      "       [6.3, 3.3, 6. , 2.5],\n",
      "       [5.8, 2.7, 5.1, 1.9],\n",
      "       [7.1, 3. , 5.9, 2.1],\n",
      "       [6.3, 2.9, 5.6, 1.8],\n",
      "       [6.5, 3. , 5.8, 2.2],\n",
      "       [7.6, 3. , 6.6, 2.1],\n",
      "       [4.9, 2.5, 4.5, 1.7],\n",
      "       [7.3, 2.9, 6.3, 1.8],\n",
      "       [6.7, 2.5, 5.8, 1.8],\n",
      "       [7.2, 3.6, 6.1, 2.5],\n",
      "       [6.5, 3.2, 5.1, 2. ],\n",
      "       [6.4, 2.7, 5.3, 1.9],\n",
      "       [6.8, 3. , 5.5, 2.1],\n",
      "       [5.7, 2.5, 5. , 2. ],\n",
      "       [5.8, 2.8, 5.1, 2.4],\n",
      "       [6.4, 3.2, 5.3, 2.3],\n",
      "       [6.5, 3. , 5.5, 1.8],\n",
      "       [7.7, 3.8, 6.7, 2.2],\n",
      "       [7.7, 2.6, 6.9, 2.3],\n",
      "       [6. , 2.2, 5. , 1.5],\n",
      "       [6.9, 3.2, 5.7, 2.3],\n",
      "       [5.6, 2.8, 4.9, 2. ],\n",
      "       [7.7, 2.8, 6.7, 2. ],\n",
      "       [6.3, 2.7, 4.9, 1.8],\n",
      "       [6.7, 3.3, 5.7, 2.1],\n",
      "       [7.2, 3.2, 6. , 1.8],\n",
      "       [6.2, 2.8, 4.8, 1.8],\n",
      "       [6.1, 3. , 4.9, 1.8],\n",
      "       [6.4, 2.8, 5.6, 2.1],\n",
      "       [7.2, 3. , 5.8, 1.6],\n",
      "       [7.4, 2.8, 6.1, 1.9],\n",
      "       [7.9, 3.8, 6.4, 2. ],\n",
      "       [6.4, 2.8, 5.6, 2.2],\n",
      "       [6.3, 2.8, 5.1, 1.5],\n",
      "       [6.1, 2.6, 5.6, 1.4],\n",
      "       [7.7, 3. , 6.1, 2.3],\n",
      "       [6.3, 3.4, 5.6, 2.4],\n",
      "       [6.4, 3.1, 5.5, 1.8],\n",
      "       [6. , 3. , 4.8, 1.8],\n",
      "       [6.9, 3.1, 5.4, 2.1],\n",
      "       [6.7, 3.1, 5.6, 2.4],\n",
      "       [6.9, 3.1, 5.1, 2.3],\n",
      "       [5.8, 2.7, 5.1, 1.9],\n",
      "       [6.8, 3.2, 5.9, 2.3],\n",
      "       [6.7, 3.3, 5.7, 2.5],\n",
      "       [6.7, 3. , 5.2, 2.3],\n",
      "       [6.3, 2.5, 5. , 1.9],\n",
      "       [6.5, 3. , 5.2, 2. ],\n",
      "       [6.2, 3.4, 5.4, 2.3],\n",
      "       [5.9, 3. , 5.1, 1.8]]), 'target': array([0, 0, 0, 0, 0, 0, 0, 0, 0, 0, 0, 0, 0, 0, 0, 0, 0, 0, 0, 0, 0, 0,\n",
      "       0, 0, 0, 0, 0, 0, 0, 0, 0, 0, 0, 0, 0, 0, 0, 0, 0, 0, 0, 0, 0, 0,\n",
      "       0, 0, 0, 0, 0, 0, 1, 1, 1, 1, 1, 1, 1, 1, 1, 1, 1, 1, 1, 1, 1, 1,\n",
      "       1, 1, 1, 1, 1, 1, 1, 1, 1, 1, 1, 1, 1, 1, 1, 1, 1, 1, 1, 1, 1, 1,\n",
      "       1, 1, 1, 1, 1, 1, 1, 1, 1, 1, 1, 1, 2, 2, 2, 2, 2, 2, 2, 2, 2, 2,\n",
      "       2, 2, 2, 2, 2, 2, 2, 2, 2, 2, 2, 2, 2, 2, 2, 2, 2, 2, 2, 2, 2, 2,\n",
      "       2, 2, 2, 2, 2, 2, 2, 2, 2, 2, 2, 2, 2, 2, 2, 2, 2, 2]), 'frame': None, 'target_names': array(['setosa', 'versicolor', 'virginica'], dtype='<U10'), 'DESCR': '.. _iris_dataset:\\n\\nIris plants dataset\\n--------------------\\n\\n**Data Set Characteristics:**\\n\\n    :Number of Instances: 150 (50 in each of three classes)\\n    :Number of Attributes: 4 numeric, predictive attributes and the class\\n    :Attribute Information:\\n        - sepal length in cm\\n        - sepal width in cm\\n        - petal length in cm\\n        - petal width in cm\\n        - class:\\n                - Iris-Setosa\\n                - Iris-Versicolour\\n                - Iris-Virginica\\n                \\n    :Summary Statistics:\\n\\n    ============== ==== ==== ======= ===== ====================\\n                    Min  Max   Mean    SD   Class Correlation\\n    ============== ==== ==== ======= ===== ====================\\n    sepal length:   4.3  7.9   5.84   0.83    0.7826\\n    sepal width:    2.0  4.4   3.05   0.43   -0.4194\\n    petal length:   1.0  6.9   3.76   1.76    0.9490  (high!)\\n    petal width:    0.1  2.5   1.20   0.76    0.9565  (high!)\\n    ============== ==== ==== ======= ===== ====================\\n\\n    :Missing Attribute Values: None\\n    :Class Distribution: 33.3% for each of 3 classes.\\n    :Creator: R.A. Fisher\\n    :Donor: Michael Marshall (MARSHALL%PLU@io.arc.nasa.gov)\\n    :Date: July, 1988\\n\\nThe famous Iris database, first used by Sir R.A. Fisher. The dataset is taken\\nfrom Fisher\\'s paper. Note that it\\'s the same as in R, but not as in the UCI\\nMachine Learning Repository, which has two wrong data points.\\n\\nThis is perhaps the best known database to be found in the\\npattern recognition literature.  Fisher\\'s paper is a classic in the field and\\nis referenced frequently to this day.  (See Duda & Hart, for example.)  The\\ndata set contains 3 classes of 50 instances each, where each class refers to a\\ntype of iris plant.  One class is linearly separable from the other 2; the\\nlatter are NOT linearly separable from each other.\\n\\n.. topic:: References\\n\\n   - Fisher, R.A. \"The use of multiple measurements in taxonomic problems\"\\n     Annual Eugenics, 7, Part II, 179-188 (1936); also in \"Contributions to\\n     Mathematical Statistics\" (John Wiley, NY, 1950).\\n   - Duda, R.O., & Hart, P.E. (1973) Pattern Classification and Scene Analysis.\\n     (Q327.D83) John Wiley & Sons.  ISBN 0-471-22361-1.  See page 218.\\n   - Dasarathy, B.V. (1980) \"Nosing Around the Neighborhood: A New System\\n     Structure and Classification Rule for Recognition in Partially Exposed\\n     Environments\".  IEEE Transactions on Pattern Analysis and Machine\\n     Intelligence, Vol. PAMI-2, No. 1, 67-71.\\n   - Gates, G.W. (1972) \"The Reduced Nearest Neighbor Rule\".  IEEE Transactions\\n     on Information Theory, May 1972, 431-433.\\n   - See also: 1988 MLC Proceedings, 54-64.  Cheeseman et al\"s AUTOCLASS II\\n     conceptual clustering system finds 3 classes in the data.\\n   - Many, many more ...', 'feature_names': ['sepal length (cm)', 'sepal width (cm)', 'petal length (cm)', 'petal width (cm)'], 'filename': 'iris.csv', 'data_module': 'sklearn.datasets.data'}\n"
     ]
    }
   ],
   "source": [
    "iris=load_iris()\n",
    "print(iris)"
   ]
  },
  {
   "cell_type": "code",
   "execution_count": 3,
   "metadata": {
    "colab": {},
    "colab_type": "code",
    "id": "rR5P5eth4RQy"
   },
   "outputs": [
    {
     "name": "stdout",
     "output_type": "stream",
     "text": [
      ".. _iris_dataset:\n",
      "\n",
      "Iris plants dataset\n",
      "--------------------\n",
      "\n",
      "**Data Set Characteristics:**\n",
      "\n",
      "    :Number of Instances: 150 (50 in each of three classes)\n",
      "    :Number of Attributes: 4 numeric, predictive attributes and the class\n",
      "    :Attribute Information:\n",
      "        - sepal length in cm\n",
      "        - sepal width in cm\n",
      "        - petal length in cm\n",
      "        - petal width in cm\n",
      "        - class:\n",
      "                - Iris-Setosa\n",
      "                - Iris-Versicolour\n",
      "                - Iris-Virginica\n",
      "                \n",
      "    :Summary Statistics:\n",
      "\n",
      "    ============== ==== ==== ======= ===== ====================\n",
      "                    Min  Max   Mean    SD   Class Correlation\n",
      "    ============== ==== ==== ======= ===== ====================\n",
      "    sepal length:   4.3  7.9   5.84   0.83    0.7826\n",
      "    sepal width:    2.0  4.4   3.05   0.43   -0.4194\n",
      "    petal length:   1.0  6.9   3.76   1.76    0.9490  (high!)\n",
      "    petal width:    0.1  2.5   1.20   0.76    0.9565  (high!)\n",
      "    ============== ==== ==== ======= ===== ====================\n",
      "\n",
      "    :Missing Attribute Values: None\n",
      "    :Class Distribution: 33.3% for each of 3 classes.\n",
      "    :Creator: R.A. Fisher\n",
      "    :Donor: Michael Marshall (MARSHALL%PLU@io.arc.nasa.gov)\n",
      "    :Date: July, 1988\n",
      "\n",
      "The famous Iris database, first used by Sir R.A. Fisher. The dataset is taken\n",
      "from Fisher's paper. Note that it's the same as in R, but not as in the UCI\n",
      "Machine Learning Repository, which has two wrong data points.\n",
      "\n",
      "This is perhaps the best known database to be found in the\n",
      "pattern recognition literature.  Fisher's paper is a classic in the field and\n",
      "is referenced frequently to this day.  (See Duda & Hart, for example.)  The\n",
      "data set contains 3 classes of 50 instances each, where each class refers to a\n",
      "type of iris plant.  One class is linearly separable from the other 2; the\n",
      "latter are NOT linearly separable from each other.\n",
      "\n",
      ".. topic:: References\n",
      "\n",
      "   - Fisher, R.A. \"The use of multiple measurements in taxonomic problems\"\n",
      "     Annual Eugenics, 7, Part II, 179-188 (1936); also in \"Contributions to\n",
      "     Mathematical Statistics\" (John Wiley, NY, 1950).\n",
      "   - Duda, R.O., & Hart, P.E. (1973) Pattern Classification and Scene Analysis.\n",
      "     (Q327.D83) John Wiley & Sons.  ISBN 0-471-22361-1.  See page 218.\n",
      "   - Dasarathy, B.V. (1980) \"Nosing Around the Neighborhood: A New System\n",
      "     Structure and Classification Rule for Recognition in Partially Exposed\n",
      "     Environments\".  IEEE Transactions on Pattern Analysis and Machine\n",
      "     Intelligence, Vol. PAMI-2, No. 1, 67-71.\n",
      "   - Gates, G.W. (1972) \"The Reduced Nearest Neighbor Rule\".  IEEE Transactions\n",
      "     on Information Theory, May 1972, 431-433.\n",
      "   - See also: 1988 MLC Proceedings, 54-64.  Cheeseman et al\"s AUTOCLASS II\n",
      "     conceptual clustering system finds 3 classes in the data.\n",
      "   - Many, many more ...\n"
     ]
    }
   ],
   "source": [
    "print(iris.DESCR)"
   ]
  },
  {
   "cell_type": "markdown",
   "metadata": {},
   "source": [
    "### Listing down all the features to use from the dataset"
   ]
  },
  {
   "cell_type": "code",
   "execution_count": 4,
   "metadata": {
    "colab": {
     "base_uri": "https://localhost:8080/",
     "height": 34
    },
    "colab_type": "code",
    "id": "JS3YSxb4uSbp",
    "outputId": "4e28e220-acd3-4dac-fe87-d6b23be7eeb9"
   },
   "outputs": [
    {
     "name": "stdout",
     "output_type": "stream",
     "text": [
      "['sepal length (cm)', 'sepal width (cm)', 'petal length (cm)', 'petal width (cm)']\n"
     ]
    }
   ],
   "source": [
    "features=iris.feature_names\n",
    "print(features)"
   ]
  },
  {
   "cell_type": "code",
   "execution_count": 5,
   "metadata": {
    "colab": {
     "base_uri": "https://localhost:8080/",
     "height": 34
    },
    "colab_type": "code",
    "id": "KjS2Inon4Suz",
    "outputId": "2d3414a0-f3aa-4fa0-92e2-7043ee545b71"
   },
   "outputs": [
    {
     "name": "stdout",
     "output_type": "stream",
     "text": [
      "(150, 4)\n"
     ]
    }
   ],
   "source": [
    "X=iris.data\n",
    "print(X.shape)"
   ]
  },
  {
   "cell_type": "code",
   "execution_count": 6,
   "metadata": {
    "colab": {
     "base_uri": "https://localhost:8080/",
     "height": 34
    },
    "colab_type": "code",
    "id": "fDCwigpW5dre",
    "outputId": "ab1a51c1-5b17-466d-b0ff-c900bc24b7d0"
   },
   "outputs": [
    {
     "name": "stdout",
     "output_type": "stream",
     "text": [
      "(150,)\n"
     ]
    }
   ],
   "source": [
    "y=iris.target\n",
    "print(y.shape)"
   ]
  },
  {
   "cell_type": "code",
   "execution_count": 7,
   "metadata": {
    "colab": {
     "base_uri": "https://localhost:8080/",
     "height": 285
    },
    "colab_type": "code",
    "id": "ZKAvA9UmvMHf",
    "outputId": "c9702ce9-1ce2-4e44-cf9c-c8240f5905e7"
   },
   "outputs": [
    {
     "data": {
      "text/plain": [
       "<AxesSubplot:>"
      ]
     },
     "execution_count": 7,
     "metadata": {},
     "output_type": "execute_result"
    },
    {
     "data": {
      "image/png": "[encoded data removed]",
      "text/plain": [
       "<Figure size 640x480 with 1 Axes>"
      ]
     },
     "metadata": {},
     "output_type": "display_data"
    }
   ],
   "source": [
    "sns.boxplot(x=iris.target , y=iris.data[:,1])\n"
   ]
  },
  {
   "cell_type": "markdown",
   "metadata": {
    "colab_type": "text",
    "id": "VswAfCde83be"
   },
   "source": [
    "How to interpret box plot \n",
    "![image.png](data:image/png;base64,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)"
   ]
  },
  {
   "cell_type": "markdown",
   "metadata": {},
   "source": [
    "## Linear Regression to find least important feature"
   ]
  },
  {
   "cell_type": "code",
   "execution_count": 8,
   "metadata": {
    "colab": {},
    "colab_type": "code",
    "id": "GYiaKbRa61Zr"
   },
   "outputs": [],
   "source": [
    "from sklearn.linear_model import LinearRegression\n",
    "from sklearn.model_selection import train_test_split"
   ]
  },
  {
   "cell_type": "code",
   "execution_count": 10,
   "metadata": {
    "colab": {},
    "colab_type": "code",
    "id": "LooSRMQp7GVD"
   },
   "outputs": [],
   "source": [
    "X_train,X_test,y_train,y_test=train_test_split(X,y,test_size=0.25)"
   ]
  },
  {
   "cell_type": "code",
   "execution_count": 11,
   "metadata": {
    "colab": {},
    "colab_type": "code",
    "id": "LaGWFj5q7NAo"
   },
   "outputs": [],
   "source": [
    "model=LinearRegression()"
   ]
  },
  {
   "cell_type": "code",
   "execution_count": 12,
   "metadata": {
    "colab": {},
    "colab_type": "code",
    "id": "JCl19F017Qpn"
   },
   "outputs": [],
   "source": [
    "lin_model=model.fit(X_train,y_train)"
   ]
  },
  {
   "cell_type": "code",
   "execution_count": 13,
   "metadata": {
    "colab": {
     "base_uri": "https://localhost:8080/",
     "height": 67
    },
    "colab_type": "code",
    "id": "XRXdN7UaGyx9",
    "outputId": "2d07f4d7-2747-471b-e303-1dd110b4b333"
   },
   "outputs": [
    {
     "name": "stdout",
     "output_type": "stream",
     "text": [
      "[-0.11197346 -0.08832104  0.21081791  0.63265103]\n",
      "Most important feature is  petal width (cm)\n",
      "Least important feature is  sepal length (cm)\n"
     ]
    }
   ],
   "source": [
    "print(lin_model.coef_)\n",
    "weights=lin_model.coef_\n",
    "print('Most important feature is ', features[weights.argmax()])\n",
    "print('Least important feature is ',features[weights.argmin()])"
   ]
  },
  {
   "cell_type": "code",
   "execution_count": 14,
   "metadata": {
    "colab": {
     "base_uri": "https://localhost:8080/",
     "height": 34
    },
    "colab_type": "code",
    "id": "3Ybo9nfsKjM3",
    "outputId": "2f553efc-bdba-481a-bbbf-fa8cd299b617"
   },
   "outputs": [
    {
     "name": "stdout",
     "output_type": "stream",
     "text": [
      "0.36080267526629894\n"
     ]
    }
   ],
   "source": [
    "print(lin_model.intercept_)"
   ]
  },
  {
   "cell_type": "code",
   "execution_count": 15,
   "metadata": {
    "colab": {
     "base_uri": "https://localhost:8080/",
     "height": 34
    },
    "colab_type": "code",
    "id": "35-2dk9V-cnJ",
    "outputId": "ccc0dc71-e8d2-4ee7-eb07-83b8c4c833c5"
   },
   "outputs": [
    {
     "name": "stdout",
     "output_type": "stream",
     "text": [
      "0.9434621928603036\n"
     ]
    }
   ],
   "source": [
    "print(lin_model.score(X_test,y_test))"
   ]
  },
  {
   "cell_type": "code",
   "execution_count": 16,
   "metadata": {
    "colab": {
     "base_uri": "https://localhost:8080/",
     "height": 134
    },
    "colab_type": "code",
    "id": "5P1lfShDftxn",
    "outputId": "6ff0f453-3511-4b72-d80f-721d9e80cb1f"
   },
   "outputs": [
    {
     "name": "stdout",
     "output_type": "stream",
     "text": [
      "[ 1.3669963   1.78476223  0.17299458  1.58458109  0.00374984  1.20752826\n",
      " -0.11668742 -0.0904815  -0.08204304  1.75512911  1.8969679   1.41655161\n",
      "  1.93397752  1.82248573  1.72507763  1.92909022  1.98258824  1.20227666\n",
      "  0.92614714 -0.13488285  1.36644535  0.89730531 -0.14741283  1.0841748\n",
      " -0.20432442  0.97057832  1.75419012 -0.05922487  1.75129366  0.01468662\n",
      "  0.01573896 -0.06118235  1.67564578  1.26827531  0.96989429  1.6686477\n",
      " -0.09677133 -0.0311551 ]\n"
     ]
    }
   ],
   "source": [
    "predictions=lin_model.predict(X_test)\n",
    "print(predictions)"
   ]
  }
 ],
 "metadata": {
  "colab": {
   "name": "Kaggle_Iris_Classification.ipynb",
   "provenance": []
  },
  "kernelspec": {
   "display_name": "Python 3 (ipykernel)",
   "language": "python",
   "name": "python3"
  },
  "language_info": {
   "codemirror_mode": {
    "name": "ipython",
    "version": 3
   },
   "file_extension": ".py",
   "mimetype": "text/x-python",
   "name": "python",
   "nbconvert_exporter": "python",
   "pygments_lexer": "ipython3",
   "version": "3.9.13"
  }
 },
 "nbformat": 4,
 "nbformat_minor": 1
}
